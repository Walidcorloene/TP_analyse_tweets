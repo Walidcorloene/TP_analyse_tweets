{
  "nbformat": 4,
  "nbformat_minor": 0,
  "metadata": {
    "colab": {
      "name": "TP_analyse_tweets.ipynb",
      "provenance": [],
      "collapsed_sections": [],
      "include_colab_link": true
    },
    "kernelspec": {
      "name": "python3",
      "display_name": "Python 3"
    }
  },
  "cells": [
    {
      "cell_type": "markdown",
      "metadata": {
        "id": "view-in-github",
        "colab_type": "text"
      },
      "source": [
        "<a href=\"https://colab.research.google.com/github/Walidcorloene/TP_analyse_tweets/blob/main/TP_analyse_tweets.ipynb\" target=\"_parent\"><img src=\"https://colab.research.google.com/assets/colab-badge.svg\" alt=\"Open In Colab\"/></a>"
      ]
    },
    {
      "cell_type": "markdown",
      "metadata": {
        "id": "_x3c-ePP0jZG"
      },
      "source": [
        "# **TP Cours Textmining** \n",
        "#### *Etude portée sur les tweets deux politiques français*\n",
        "\n",
        "*11-02-2022*\n",
        "\n",
        "Les objectifs de ce TP sont : \n",
        "- Travailler sur du texte français\n",
        "- Analyser les données \n",
        "- Reprendre les acquis développés dans les TP précédents\n",
        "- Découvrir de nouveaux outils : scattertext\n",
        "- Prédire qui a posté un tweet \n"
      ]
    },
    {
      "cell_type": "markdown",
      "metadata": {
        "id": "RII9vVrm1bLG"
      },
      "source": [
        "## **1. Installation des packages**"
      ]
    },
    {
      "cell_type": "code",
      "metadata": {
        "id": "WptkukJYK4ur",
        "colab": {
          "base_uri": "https://localhost:8080/"
        },
        "outputId": "d95e4288-fbcd-407b-a996-46fdda57090d"
      },
      "source": [
        "!pip install scattertext\n",
        "!pip install spacy\n",
        "!pip install nltk"
      ],
      "execution_count": null,
      "outputs": [
        {
          "output_type": "stream",
          "name": "stdout",
          "text": [
            "Collecting scattertext\n",
            "  Downloading scattertext-0.1.5-py3-none-any.whl (7.3 MB)\n",
            "\u001b[K     |████████████████████████████████| 7.3 MB 5.9 MB/s \n",
            "\u001b[?25hRequirement already satisfied: pandas in /usr/local/lib/python3.7/dist-packages (from scattertext) (1.3.5)\n",
            "Collecting mock\n",
            "  Downloading mock-4.0.3-py3-none-any.whl (28 kB)\n",
            "Collecting flashtext\n",
            "  Downloading flashtext-2.7.tar.gz (14 kB)\n",
            "Requirement already satisfied: scipy in /usr/local/lib/python3.7/dist-packages (from scattertext) (1.4.1)\n",
            "Requirement already satisfied: numpy in /usr/local/lib/python3.7/dist-packages (from scattertext) (1.19.5)\n",
            "Requirement already satisfied: statsmodels in /usr/local/lib/python3.7/dist-packages (from scattertext) (0.10.2)\n",
            "Collecting gensim>=4.0.0\n",
            "  Downloading gensim-4.1.2-cp37-cp37m-manylinux_2_12_x86_64.manylinux2010_x86_64.whl (24.1 MB)\n",
            "\u001b[K     |████████████████████████████████| 24.1 MB 53.1 MB/s \n",
            "\u001b[?25hRequirement already satisfied: six in /usr/local/lib/python3.7/dist-packages (from scattertext) (1.15.0)\n",
            "Requirement already satisfied: scikit-learn in /usr/local/lib/python3.7/dist-packages (from scattertext) (1.0.2)\n",
            "Requirement already satisfied: smart-open>=1.8.1 in /usr/local/lib/python3.7/dist-packages (from gensim>=4.0.0->scattertext) (5.2.1)\n",
            "Requirement already satisfied: python-dateutil>=2.7.3 in /usr/local/lib/python3.7/dist-packages (from pandas->scattertext) (2.8.2)\n",
            "Requirement already satisfied: pytz>=2017.3 in /usr/local/lib/python3.7/dist-packages (from pandas->scattertext) (2018.9)\n",
            "Requirement already satisfied: joblib>=0.11 in /usr/local/lib/python3.7/dist-packages (from scikit-learn->scattertext) (1.1.0)\n",
            "Requirement already satisfied: threadpoolctl>=2.0.0 in /usr/local/lib/python3.7/dist-packages (from scikit-learn->scattertext) (3.1.0)\n",
            "Requirement already satisfied: patsy>=0.4.0 in /usr/local/lib/python3.7/dist-packages (from statsmodels->scattertext) (0.5.2)\n",
            "Building wheels for collected packages: flashtext\n",
            "  Building wheel for flashtext (setup.py) ... \u001b[?25l\u001b[?25hdone\n",
            "  Created wheel for flashtext: filename=flashtext-2.7-py2.py3-none-any.whl size=9309 sha256=a54293f03aa59b57783fb088f6d260f731559b79484aacc30d4543f5eb808704\n",
            "  Stored in directory: /root/.cache/pip/wheels/cb/19/58/4e8fdd0009a7f89dbce3c18fff2e0d0fa201d5cdfd16f113b7\n",
            "Successfully built flashtext\n",
            "Installing collected packages: mock, gensim, flashtext, scattertext\n",
            "  Attempting uninstall: gensim\n",
            "    Found existing installation: gensim 3.6.0\n",
            "    Uninstalling gensim-3.6.0:\n",
            "      Successfully uninstalled gensim-3.6.0\n",
            "Successfully installed flashtext-2.7 gensim-4.1.2 mock-4.0.3 scattertext-0.1.5\n",
            "Requirement already satisfied: spacy in /usr/local/lib/python3.7/dist-packages (2.2.4)\n",
            "Requirement already satisfied: tqdm<5.0.0,>=4.38.0 in /usr/local/lib/python3.7/dist-packages (from spacy) (4.62.3)\n",
            "Requirement already satisfied: wasabi<1.1.0,>=0.4.0 in /usr/local/lib/python3.7/dist-packages (from spacy) (0.9.0)\n",
            "Requirement already satisfied: cymem<2.1.0,>=2.0.2 in /usr/local/lib/python3.7/dist-packages (from spacy) (2.0.6)\n",
            "Requirement already satisfied: srsly<1.1.0,>=1.0.2 in /usr/local/lib/python3.7/dist-packages (from spacy) (1.0.5)\n",
            "Requirement already satisfied: murmurhash<1.1.0,>=0.28.0 in /usr/local/lib/python3.7/dist-packages (from spacy) (1.0.6)\n",
            "Requirement already satisfied: numpy>=1.15.0 in /usr/local/lib/python3.7/dist-packages (from spacy) (1.19.5)\n",
            "Requirement already satisfied: plac<1.2.0,>=0.9.6 in /usr/local/lib/python3.7/dist-packages (from spacy) (1.1.3)\n",
            "Requirement already satisfied: setuptools in /usr/local/lib/python3.7/dist-packages (from spacy) (57.4.0)\n",
            "Requirement already satisfied: thinc==7.4.0 in /usr/local/lib/python3.7/dist-packages (from spacy) (7.4.0)\n",
            "Requirement already satisfied: catalogue<1.1.0,>=0.0.7 in /usr/local/lib/python3.7/dist-packages (from spacy) (1.0.0)\n",
            "Requirement already satisfied: requests<3.0.0,>=2.13.0 in /usr/local/lib/python3.7/dist-packages (from spacy) (2.23.0)\n",
            "Requirement already satisfied: preshed<3.1.0,>=3.0.2 in /usr/local/lib/python3.7/dist-packages (from spacy) (3.0.6)\n",
            "Requirement already satisfied: blis<0.5.0,>=0.4.0 in /usr/local/lib/python3.7/dist-packages (from spacy) (0.4.1)\n",
            "Requirement already satisfied: importlib-metadata>=0.20 in /usr/local/lib/python3.7/dist-packages (from catalogue<1.1.0,>=0.0.7->spacy) (4.10.1)\n",
            "Requirement already satisfied: typing-extensions>=3.6.4 in /usr/local/lib/python3.7/dist-packages (from importlib-metadata>=0.20->catalogue<1.1.0,>=0.0.7->spacy) (3.10.0.2)\n",
            "Requirement already satisfied: zipp>=0.5 in /usr/local/lib/python3.7/dist-packages (from importlib-metadata>=0.20->catalogue<1.1.0,>=0.0.7->spacy) (3.7.0)\n",
            "Requirement already satisfied: urllib3!=1.25.0,!=1.25.1,<1.26,>=1.21.1 in /usr/local/lib/python3.7/dist-packages (from requests<3.0.0,>=2.13.0->spacy) (1.24.3)\n",
            "Requirement already satisfied: idna<3,>=2.5 in /usr/local/lib/python3.7/dist-packages (from requests<3.0.0,>=2.13.0->spacy) (2.10)\n",
            "Requirement already satisfied: chardet<4,>=3.0.2 in /usr/local/lib/python3.7/dist-packages (from requests<3.0.0,>=2.13.0->spacy) (3.0.4)\n",
            "Requirement already satisfied: certifi>=2017.4.17 in /usr/local/lib/python3.7/dist-packages (from requests<3.0.0,>=2.13.0->spacy) (2021.10.8)\n",
            "Requirement already satisfied: nltk in /usr/local/lib/python3.7/dist-packages (3.2.5)\n",
            "Requirement already satisfied: six in /usr/local/lib/python3.7/dist-packages (from nltk) (1.15.0)\n"
          ]
        }
      ]
    },
    {
      "cell_type": "code",
      "metadata": {
        "id": "63W-DuD0keX3",
        "colab": {
          "base_uri": "https://localhost:8080/"
        },
        "outputId": "87fdb742-65d1-42fc-bafb-a06a7dfb9450"
      },
      "source": [
        "!python -m spacy download fr_core_news_md"
      ],
      "execution_count": null,
      "outputs": [
        {
          "output_type": "stream",
          "name": "stdout",
          "text": [
            "Collecting fr_core_news_md==2.2.5\n",
            "  Downloading https://github.com/explosion/spacy-models/releases/download/fr_core_news_md-2.2.5/fr_core_news_md-2.2.5.tar.gz (88.6 MB)\n",
            "\u001b[K     |████████████████████████████████| 88.6 MB 16.6 MB/s \n",
            "\u001b[?25hRequirement already satisfied: spacy>=2.2.2 in /usr/local/lib/python3.7/dist-packages (from fr_core_news_md==2.2.5) (2.2.4)\n",
            "Requirement already satisfied: wasabi<1.1.0,>=0.4.0 in /usr/local/lib/python3.7/dist-packages (from spacy>=2.2.2->fr_core_news_md==2.2.5) (0.9.0)\n",
            "Requirement already satisfied: requests<3.0.0,>=2.13.0 in /usr/local/lib/python3.7/dist-packages (from spacy>=2.2.2->fr_core_news_md==2.2.5) (2.23.0)\n",
            "Requirement already satisfied: tqdm<5.0.0,>=4.38.0 in /usr/local/lib/python3.7/dist-packages (from spacy>=2.2.2->fr_core_news_md==2.2.5) (4.62.3)\n",
            "Requirement already satisfied: blis<0.5.0,>=0.4.0 in /usr/local/lib/python3.7/dist-packages (from spacy>=2.2.2->fr_core_news_md==2.2.5) (0.4.1)\n",
            "Requirement already satisfied: setuptools in /usr/local/lib/python3.7/dist-packages (from spacy>=2.2.2->fr_core_news_md==2.2.5) (57.4.0)\n",
            "Requirement already satisfied: numpy>=1.15.0 in /usr/local/lib/python3.7/dist-packages (from spacy>=2.2.2->fr_core_news_md==2.2.5) (1.19.5)\n",
            "Requirement already satisfied: preshed<3.1.0,>=3.0.2 in /usr/local/lib/python3.7/dist-packages (from spacy>=2.2.2->fr_core_news_md==2.2.5) (3.0.6)\n",
            "Requirement already satisfied: cymem<2.1.0,>=2.0.2 in /usr/local/lib/python3.7/dist-packages (from spacy>=2.2.2->fr_core_news_md==2.2.5) (2.0.6)\n",
            "Requirement already satisfied: plac<1.2.0,>=0.9.6 in /usr/local/lib/python3.7/dist-packages (from spacy>=2.2.2->fr_core_news_md==2.2.5) (1.1.3)\n",
            "Requirement already satisfied: srsly<1.1.0,>=1.0.2 in /usr/local/lib/python3.7/dist-packages (from spacy>=2.2.2->fr_core_news_md==2.2.5) (1.0.5)\n",
            "Requirement already satisfied: catalogue<1.1.0,>=0.0.7 in /usr/local/lib/python3.7/dist-packages (from spacy>=2.2.2->fr_core_news_md==2.2.5) (1.0.0)\n",
            "Requirement already satisfied: murmurhash<1.1.0,>=0.28.0 in /usr/local/lib/python3.7/dist-packages (from spacy>=2.2.2->fr_core_news_md==2.2.5) (1.0.6)\n",
            "Requirement already satisfied: thinc==7.4.0 in /usr/local/lib/python3.7/dist-packages (from spacy>=2.2.2->fr_core_news_md==2.2.5) (7.4.0)\n",
            "Requirement already satisfied: importlib-metadata>=0.20 in /usr/local/lib/python3.7/dist-packages (from catalogue<1.1.0,>=0.0.7->spacy>=2.2.2->fr_core_news_md==2.2.5) (4.10.1)\n",
            "Requirement already satisfied: zipp>=0.5 in /usr/local/lib/python3.7/dist-packages (from importlib-metadata>=0.20->catalogue<1.1.0,>=0.0.7->spacy>=2.2.2->fr_core_news_md==2.2.5) (3.7.0)\n",
            "Requirement already satisfied: typing-extensions>=3.6.4 in /usr/local/lib/python3.7/dist-packages (from importlib-metadata>=0.20->catalogue<1.1.0,>=0.0.7->spacy>=2.2.2->fr_core_news_md==2.2.5) (3.10.0.2)\n",
            "Requirement already satisfied: certifi>=2017.4.17 in /usr/local/lib/python3.7/dist-packages (from requests<3.0.0,>=2.13.0->spacy>=2.2.2->fr_core_news_md==2.2.5) (2021.10.8)\n",
            "Requirement already satisfied: chardet<4,>=3.0.2 in /usr/local/lib/python3.7/dist-packages (from requests<3.0.0,>=2.13.0->spacy>=2.2.2->fr_core_news_md==2.2.5) (3.0.4)\n",
            "Requirement already satisfied: urllib3!=1.25.0,!=1.25.1,<1.26,>=1.21.1 in /usr/local/lib/python3.7/dist-packages (from requests<3.0.0,>=2.13.0->spacy>=2.2.2->fr_core_news_md==2.2.5) (1.24.3)\n",
            "Requirement already satisfied: idna<3,>=2.5 in /usr/local/lib/python3.7/dist-packages (from requests<3.0.0,>=2.13.0->spacy>=2.2.2->fr_core_news_md==2.2.5) (2.10)\n",
            "Building wheels for collected packages: fr-core-news-md\n",
            "  Building wheel for fr-core-news-md (setup.py) ... \u001b[?25l\u001b[?25hdone\n",
            "  Created wheel for fr-core-news-md: filename=fr_core_news_md-2.2.5-py3-none-any.whl size=90338488 sha256=e0b721a6f636ff5502ec0fbb3f29160cd434385b7f02a4256e1435db3a81b4c1\n",
            "  Stored in directory: /tmp/pip-ephem-wheel-cache-pd89hjf9/wheels/2e/26/ff/ce93eb966e7176ebe81e6c98209582e13e108cdd2d6d636df0\n",
            "Successfully built fr-core-news-md\n",
            "Installing collected packages: fr-core-news-md\n",
            "Successfully installed fr-core-news-md-2.2.5\n",
            "\u001b[38;5;2m✔ Download and installation successful\u001b[0m\n",
            "You can now load the model via spacy.load('fr_core_news_md')\n"
          ]
        }
      ]
    },
    {
      "cell_type": "code",
      "source": [
        "import os\n",
        "from google.colab import drive\n",
        "drive.mount('drive/')"
      ],
      "metadata": {
        "colab": {
          "base_uri": "https://localhost:8080/"
        },
        "id": "fm4JIfoh0-Kt",
        "outputId": "9c9318c7-06c8-4241-e001-29240718438f"
      },
      "execution_count": null,
      "outputs": [
        {
          "output_type": "stream",
          "name": "stdout",
          "text": [
            "Mounted at drive/\n"
          ]
        }
      ]
    },
    {
      "cell_type": "code",
      "metadata": {
        "id": "G1d_nO78LIy9"
      },
      "source": [
        "import pandas as pd\n",
        "import matplotlib.pyplot as plt\n",
        "import numpy as np\n",
        "import time\n",
        "import datetime\n",
        "\n",
        "\n",
        "# Modules de traitement du texte\n",
        "import spacy\n",
        "import fr_core_news_md\n",
        "import nltk\n",
        "import re\n",
        "from termcolor import colored\n",
        "\n",
        "# Modules pour le wordcloud\n",
        "from PIL import Image\n",
        "from wordcloud import WordCloud, STOPWORDS, ImageColorGenerator\n",
        "\n",
        "# Module pour scattertext\n",
        "import scattertext as st\n",
        "\n",
        "# Modules de modélisation\n",
        "from sklearn.utils.fixes import loguniform\n",
        "from sklearn.feature_extraction.text import TfidfVectorizer\n",
        "from sklearn.pipeline import Pipeline\n",
        "from sklearn.compose import ColumnTransformer\n",
        "from sklearn.model_selection import GridSearchCV, RandomizedSearchCV, train_test_split\n",
        "from sklearn.linear_model import LogisticRegression\n",
        "from sklearn.metrics import confusion_matrix, ConfusionMatrixDisplay, classification_report\n"
      ],
      "execution_count": null,
      "outputs": []
    },
    {
      "cell_type": "code",
      "metadata": {
        "id": "ZdeI55hXMWYA"
      },
      "source": [
        "# chemin où se trouve le jeu de données (tweets_politics_2022.csv)\n",
        "os.chdir('drive/My Drive/NLP/Tweets/Data')"
      ],
      "execution_count": null,
      "outputs": []
    },
    {
      "cell_type": "markdown",
      "metadata": {
        "id": "S5yIKyNBL8sG"
      },
      "source": [
        "## **2. Prise en main de la base de données**\n",
        "\n",
        "Les données ont été extraites via l'API tweepy dans un autre notebook. \\\n",
        "Les tweets de certains candidats à l'élection présidentiels ont été récupérés. \n",
        "\n",
        "Regardez les variables à disposition, quelques comptages, s'il y a des données manquantes, quelques graphiques (?), la spécificité des tweets, etc. "
      ]
    },
    {
      "cell_type": "markdown",
      "metadata": {
        "id": "1y8B9ztR5Iee"
      },
      "source": [
        "#### Import des données"
      ]
    },
    {
      "cell_type": "code",
      "metadata": {
        "id": "Fl_jd11jLI4R"
      },
      "source": [
        "df_tweets = pd.read_csv('tweets_politics_2022.csv', encoding=\"utf-8\")\n",
        "\n",
        "# ou si le csv est directement dans votre jupyter : \n",
        "# df_tweets = pd.read_csv('tweets_politics_2022.csv')"
      ],
      "execution_count": null,
      "outputs": []
    },
    {
      "cell_type": "code",
      "metadata": {
        "colab": {
          "base_uri": "https://localhost:8080/"
        },
        "id": "wb6War732Z4H",
        "outputId": "687c194b-b2e4-4d87-ef1b-5c8c880b9528"
      },
      "source": [
        "df_tweets.shape"
      ],
      "execution_count": null,
      "outputs": [
        {
          "output_type": "execute_result",
          "data": {
            "text/plain": [
              "(18430, 6)"
            ]
          },
          "metadata": {},
          "execution_count": 7
        }
      ]
    },
    {
      "cell_type": "code",
      "metadata": {
        "colab": {
          "base_uri": "https://localhost:8080/",
          "height": 206
        },
        "id": "jmNq0KrHOtd-",
        "outputId": "19f448f4-11aa-4012-febd-2a5731183fcb"
      },
      "source": [
        "df_tweets.head()"
      ],
      "execution_count": null,
      "outputs": [
        {
          "output_type": "execute_result",
          "data": {
            "text/html": [
              "\n",
              "  <div id=\"df-64683372-841b-41f9-8f6e-ffb1085ead4c\">\n",
              "    <div class=\"colab-df-container\">\n",
              "      <div>\n",
              "<style scoped>\n",
              "    .dataframe tbody tr th:only-of-type {\n",
              "        vertical-align: middle;\n",
              "    }\n",
              "\n",
              "    .dataframe tbody tr th {\n",
              "        vertical-align: top;\n",
              "    }\n",
              "\n",
              "    .dataframe thead th {\n",
              "        text-align: right;\n",
              "    }\n",
              "</style>\n",
              "<table border=\"1\" class=\"dataframe\">\n",
              "  <thead>\n",
              "    <tr style=\"text-align: right;\">\n",
              "      <th></th>\n",
              "      <th>id</th>\n",
              "      <th>created_at</th>\n",
              "      <th>favorite_count</th>\n",
              "      <th>retweet_count</th>\n",
              "      <th>text</th>\n",
              "      <th>user_id</th>\n",
              "    </tr>\n",
              "  </thead>\n",
              "  <tbody>\n",
              "    <tr>\n",
              "      <th>0</th>\n",
              "      <td>1487771447992926210</td>\n",
              "      <td>2022-01-30 12:55:29</td>\n",
              "      <td>436.0</td>\n",
              "      <td>193.0</td>\n",
              "      <td>Redonner du sens à la gauche : se rassembler a...</td>\n",
              "      <td>JeanLuc_Melenchon</td>\n",
              "    </tr>\n",
              "    <tr>\n",
              "      <th>1</th>\n",
              "      <td>1487400906517848070</td>\n",
              "      <td>2022-01-29 12:23:05</td>\n",
              "      <td>2350.0</td>\n",
              "      <td>1027.0</td>\n",
              "      <td>L’inscription sur les listes électorales c’est...</td>\n",
              "      <td>JeanLuc_Melenchon</td>\n",
              "    </tr>\n",
              "    <tr>\n",
              "      <th>2</th>\n",
              "      <td>1487117751084855300</td>\n",
              "      <td>2022-01-28 17:37:55</td>\n",
              "      <td>1145.0</td>\n",
              "      <td>480.0</td>\n",
              "      <td>🔴 Rendez-vous ce dimanche 30 janvier à 20h55 s...</td>\n",
              "      <td>JeanLuc_Melenchon</td>\n",
              "    </tr>\n",
              "    <tr>\n",
              "      <th>3</th>\n",
              "      <td>1487104482336989191</td>\n",
              "      <td>2022-01-28 16:45:12</td>\n",
              "      <td>1164.0</td>\n",
              "      <td>437.0</td>\n",
              "      <td>3 solutions pour financer la retraite à 60 ans...</td>\n",
              "      <td>JeanLuc_Melenchon</td>\n",
              "    </tr>\n",
              "    <tr>\n",
              "      <th>4</th>\n",
              "      <td>1487080530558476288</td>\n",
              "      <td>2022-01-28 15:10:01</td>\n",
              "      <td>1591.0</td>\n",
              "      <td>551.0</td>\n",
              "      <td>La Méditerranée est le plus grand cimetière du...</td>\n",
              "      <td>JeanLuc_Melenchon</td>\n",
              "    </tr>\n",
              "  </tbody>\n",
              "</table>\n",
              "</div>\n",
              "      <button class=\"colab-df-convert\" onclick=\"convertToInteractive('df-64683372-841b-41f9-8f6e-ffb1085ead4c')\"\n",
              "              title=\"Convert this dataframe to an interactive table.\"\n",
              "              style=\"display:none;\">\n",
              "        \n",
              "  <svg xmlns=\"http://www.w3.org/2000/svg\" height=\"24px\"viewBox=\"0 0 24 24\"\n",
              "       width=\"24px\">\n",
              "    <path d=\"M0 0h24v24H0V0z\" fill=\"none\"/>\n",
              "    <path d=\"M18.56 5.44l.94 2.06.94-2.06 2.06-.94-2.06-.94-.94-2.06-.94 2.06-2.06.94zm-11 1L8.5 8.5l.94-2.06 2.06-.94-2.06-.94L8.5 2.5l-.94 2.06-2.06.94zm10 10l.94 2.06.94-2.06 2.06-.94-2.06-.94-.94-2.06-.94 2.06-2.06.94z\"/><path d=\"M17.41 7.96l-1.37-1.37c-.4-.4-.92-.59-1.43-.59-.52 0-1.04.2-1.43.59L10.3 9.45l-7.72 7.72c-.78.78-.78 2.05 0 2.83L4 21.41c.39.39.9.59 1.41.59.51 0 1.02-.2 1.41-.59l7.78-7.78 2.81-2.81c.8-.78.8-2.07 0-2.86zM5.41 20L4 18.59l7.72-7.72 1.47 1.35L5.41 20z\"/>\n",
              "  </svg>\n",
              "      </button>\n",
              "      \n",
              "  <style>\n",
              "    .colab-df-container {\n",
              "      display:flex;\n",
              "      flex-wrap:wrap;\n",
              "      gap: 12px;\n",
              "    }\n",
              "\n",
              "    .colab-df-convert {\n",
              "      background-color: #E8F0FE;\n",
              "      border: none;\n",
              "      border-radius: 50%;\n",
              "      cursor: pointer;\n",
              "      display: none;\n",
              "      fill: #1967D2;\n",
              "      height: 32px;\n",
              "      padding: 0 0 0 0;\n",
              "      width: 32px;\n",
              "    }\n",
              "\n",
              "    .colab-df-convert:hover {\n",
              "      background-color: #E2EBFA;\n",
              "      box-shadow: 0px 1px 2px rgba(60, 64, 67, 0.3), 0px 1px 3px 1px rgba(60, 64, 67, 0.15);\n",
              "      fill: #174EA6;\n",
              "    }\n",
              "\n",
              "    [theme=dark] .colab-df-convert {\n",
              "      background-color: #3B4455;\n",
              "      fill: #D2E3FC;\n",
              "    }\n",
              "\n",
              "    [theme=dark] .colab-df-convert:hover {\n",
              "      background-color: #434B5C;\n",
              "      box-shadow: 0px 1px 3px 1px rgba(0, 0, 0, 0.15);\n",
              "      filter: drop-shadow(0px 1px 2px rgba(0, 0, 0, 0.3));\n",
              "      fill: #FFFFFF;\n",
              "    }\n",
              "  </style>\n",
              "\n",
              "      <script>\n",
              "        const buttonEl =\n",
              "          document.querySelector('#df-64683372-841b-41f9-8f6e-ffb1085ead4c button.colab-df-convert');\n",
              "        buttonEl.style.display =\n",
              "          google.colab.kernel.accessAllowed ? 'block' : 'none';\n",
              "\n",
              "        async function convertToInteractive(key) {\n",
              "          const element = document.querySelector('#df-64683372-841b-41f9-8f6e-ffb1085ead4c');\n",
              "          const dataTable =\n",
              "            await google.colab.kernel.invokeFunction('convertToInteractive',\n",
              "                                                     [key], {});\n",
              "          if (!dataTable) return;\n",
              "\n",
              "          const docLinkHtml = 'Like what you see? Visit the ' +\n",
              "            '<a target=\"_blank\" href=https://colab.research.google.com/notebooks/data_table.ipynb>data table notebook</a>'\n",
              "            + ' to learn more about interactive tables.';\n",
              "          element.innerHTML = '';\n",
              "          dataTable['output_type'] = 'display_data';\n",
              "          await google.colab.output.renderOutput(dataTable, element);\n",
              "          const docLink = document.createElement('div');\n",
              "          docLink.innerHTML = docLinkHtml;\n",
              "          element.appendChild(docLink);\n",
              "        }\n",
              "      </script>\n",
              "    </div>\n",
              "  </div>\n",
              "  "
            ],
            "text/plain": [
              "                    id  ...            user_id\n",
              "0  1487771447992926210  ...  JeanLuc_Melenchon\n",
              "1  1487400906517848070  ...  JeanLuc_Melenchon\n",
              "2  1487117751084855300  ...  JeanLuc_Melenchon\n",
              "3  1487104482336989191  ...  JeanLuc_Melenchon\n",
              "4  1487080530558476288  ...  JeanLuc_Melenchon\n",
              "\n",
              "[5 rows x 6 columns]"
            ]
          },
          "metadata": {},
          "execution_count": 8
        }
      ]
    },
    {
      "cell_type": "markdown",
      "metadata": {
        "id": "BlANmcVAPh3L"
      },
      "source": [
        "####  Quelques comptages / graphiques"
      ]
    },
    {
      "cell_type": "markdown",
      "metadata": {
        "id": "k_J_CgyXSpUU"
      },
      "source": [
        "##### Indicateurs simples sur les variables : \n",
        "- Y a't'il des données manquantes ? \n",
        "- combien de tweets de chaque candidat ? \n",
        "- dates minimales / maximales des tweets\n",
        "- Distribution des favoris et des retweets de chaque candidat"
      ]
    },
    {
      "cell_type": "markdown",
      "metadata": {
        "id": "Qd-6BM7i6ZvW"
      },
      "source": [
        "<details>    \n",
        "<summary>\n",
        "    <font size=\"3\" color=\"darkgreen\"><b>Aide</b></font>\n",
        "</summary>\n",
        "<p>\n",
        "<ul>\n",
        "    <li> Utiliser .isnull() </li>\n",
        "    <li><a href=\"https://pandas.pydata.org/pandas-docs/stable/reference/api/pandas.DataFrame.value_counts.html\" >pd.value_counts()</a> pour compter le nombre de modalités d'une variable catégorielle </li>\n",
        "    <li> Convertir la date au bon format avec pd.to_datetime() </li>\n",
        "    <li> Vous pouvez utiliser la fonction groupby et describe() </li>\n",
        "\n",
        "</ul>\n",
        "</p>"
      ]
    },
    {
      "cell_type": "code",
      "metadata": {
        "id": "Rpd04jMO9h1E",
        "colab": {
          "base_uri": "https://localhost:8080/"
        },
        "outputId": "cd9feccc-debe-45fb-a5b2-a7f3db74a1e0"
      },
      "source": [
        "# Implémentez la fonction en changeant le None\n",
        "def check_missing_values(df):\n",
        "  print(\"check for missing values : \")\n",
        "  print(df.isnull().sum()/len(df))  \n",
        "  return None\n",
        "\n",
        "check_missing_values(df_tweets)\n",
        "# Vous pouvez également utiliser df.info()"
      ],
      "execution_count": null,
      "outputs": [
        {
          "output_type": "stream",
          "name": "stdout",
          "text": [
            "check for missing values : \n",
            "id                0.0\n",
            "created_at        0.0\n",
            "favorite_count    0.0\n",
            "retweet_count     0.0\n",
            "text              0.0\n",
            "user_id           0.0\n",
            "dtype: float64\n"
          ]
        }
      ]
    },
    {
      "cell_type": "code",
      "metadata": {
        "id": "ndZ68VlXLI8M",
        "colab": {
          "base_uri": "https://localhost:8080/"
        },
        "outputId": "85093b28-204f-43bd-a71b-80d64ee12130"
      },
      "source": [
        "# Combien de tweets dans la base de données pour chacun des 2 politiques ? \n",
        "df_tweets[\"user_id\"].value_counts()\n",
        "# ou df_tweets[\"user_id\"].value_counts(normalize=True) si vous voulez avoir les pourcentages"
      ],
      "execution_count": null,
      "outputs": [
        {
          "output_type": "execute_result",
          "data": {
            "text/plain": [
              "Emmanuel_Macron        2969\n",
              "Marine_Lepen           2782\n",
              "JeanLuc_Melenchon      2756\n",
              "Eric_Zemmour           2752\n",
              "Christianne_Taubira    2402\n",
              "Valerie_Pecresse       2399\n",
              "Yannick_Jadot          1532\n",
              "Anne_Hidalgo            838\n",
              "Name: user_id, dtype: int64"
            ]
          },
          "metadata": {},
          "execution_count": 10
        }
      ]
    },
    {
      "cell_type": "code",
      "metadata": {
        "id": "6mpm5HJsSTmD",
        "colab": {
          "base_uri": "https://localhost:8080/"
        },
        "outputId": "9636d804-4bb2-49af-bb1e-b71e7a503788"
      },
      "source": [
        "# A quelles dates ont été envoyés les premiers / derniers tweets de chaque candidat ? \n",
        "df_tweets[\"created_at\"] = pd.to_datetime(df_tweets['created_at'])\n",
        "df_tweets.groupby([\"user_id\"])[\"created_at\"].apply(lambda x  : [x.min(), x.max()])"
      ],
      "execution_count": null,
      "outputs": [
        {
          "output_type": "execute_result",
          "data": {
            "text/plain": [
              "user_id\n",
              "Anne_Hidalgo           [2021-07-12 15:29:23, 2022-01-30 10:58:47]\n",
              "Christianne_Taubira    [2011-08-26 04:30:30, 2022-01-30 14:00:01]\n",
              "Emmanuel_Macron        [2018-11-29 12:22:40, 2022-01-29 19:49:37]\n",
              "Eric_Zemmour           [2020-12-18 22:18:49, 2022-01-29 21:58:31]\n",
              "JeanLuc_Melenchon      [2021-09-13 08:57:51, 2022-01-30 12:55:29]\n",
              "Marine_Lepen           [2020-02-10 21:38:13, 2022-01-30 12:17:02]\n",
              "Valerie_Pecresse       [2018-06-20 09:40:14, 2022-01-29 17:54:29]\n",
              "Yannick_Jadot          [2021-02-14 11:24:25, 2022-01-29 21:51:04]\n",
              "Name: created_at, dtype: object"
            ]
          },
          "metadata": {},
          "execution_count": 11
        }
      ]
    },
    {
      "cell_type": "code",
      "metadata": {
        "id": "kx4UvxNc81Js",
        "colab": {
          "base_uri": "https://localhost:8080/",
          "height": 363
        },
        "outputId": "31d03931-de9f-4ea6-d359-5b5acc6ad496"
      },
      "source": [
        "# Quelle est la distribution des favoris de chaque candidat ?\n",
        "df_tweets.groupby([\"user_id\"])[[\"favorite_count\"]].describe()"
      ],
      "execution_count": null,
      "outputs": [
        {
          "output_type": "execute_result",
          "data": {
            "text/html": [
              "\n",
              "  <div id=\"df-32573df8-bc55-4610-a460-57bcd5c734c7\">\n",
              "    <div class=\"colab-df-container\">\n",
              "      <div>\n",
              "<style scoped>\n",
              "    .dataframe tbody tr th:only-of-type {\n",
              "        vertical-align: middle;\n",
              "    }\n",
              "\n",
              "    .dataframe tbody tr th {\n",
              "        vertical-align: top;\n",
              "    }\n",
              "\n",
              "    .dataframe thead tr th {\n",
              "        text-align: left;\n",
              "    }\n",
              "\n",
              "    .dataframe thead tr:last-of-type th {\n",
              "        text-align: right;\n",
              "    }\n",
              "</style>\n",
              "<table border=\"1\" class=\"dataframe\">\n",
              "  <thead>\n",
              "    <tr>\n",
              "      <th></th>\n",
              "      <th colspan=\"8\" halign=\"left\">favorite_count</th>\n",
              "    </tr>\n",
              "    <tr>\n",
              "      <th></th>\n",
              "      <th>count</th>\n",
              "      <th>mean</th>\n",
              "      <th>std</th>\n",
              "      <th>min</th>\n",
              "      <th>25%</th>\n",
              "      <th>50%</th>\n",
              "      <th>75%</th>\n",
              "      <th>max</th>\n",
              "    </tr>\n",
              "    <tr>\n",
              "      <th>user_id</th>\n",
              "      <th></th>\n",
              "      <th></th>\n",
              "      <th></th>\n",
              "      <th></th>\n",
              "      <th></th>\n",
              "      <th></th>\n",
              "      <th></th>\n",
              "      <th></th>\n",
              "    </tr>\n",
              "  </thead>\n",
              "  <tbody>\n",
              "    <tr>\n",
              "      <th>Anne_Hidalgo</th>\n",
              "      <td>838.0</td>\n",
              "      <td>386.239857</td>\n",
              "      <td>1809.381945</td>\n",
              "      <td>8.0</td>\n",
              "      <td>132.00</td>\n",
              "      <td>211.0</td>\n",
              "      <td>334.00</td>\n",
              "      <td>47058.0</td>\n",
              "    </tr>\n",
              "    <tr>\n",
              "      <th>Christianne_Taubira</th>\n",
              "      <td>2402.0</td>\n",
              "      <td>246.313489</td>\n",
              "      <td>1072.492611</td>\n",
              "      <td>0.0</td>\n",
              "      <td>17.00</td>\n",
              "      <td>44.0</td>\n",
              "      <td>145.00</td>\n",
              "      <td>39010.0</td>\n",
              "    </tr>\n",
              "    <tr>\n",
              "      <th>Emmanuel_Macron</th>\n",
              "      <td>2969.0</td>\n",
              "      <td>6078.357696</td>\n",
              "      <td>12216.089485</td>\n",
              "      <td>96.0</td>\n",
              "      <td>1457.00</td>\n",
              "      <td>2755.0</td>\n",
              "      <td>5756.00</td>\n",
              "      <td>204235.0</td>\n",
              "    </tr>\n",
              "    <tr>\n",
              "      <th>Eric_Zemmour</th>\n",
              "      <td>2752.0</td>\n",
              "      <td>3376.126090</td>\n",
              "      <td>2900.967194</td>\n",
              "      <td>57.0</td>\n",
              "      <td>1520.25</td>\n",
              "      <td>2487.5</td>\n",
              "      <td>4229.75</td>\n",
              "      <td>34664.0</td>\n",
              "    </tr>\n",
              "    <tr>\n",
              "      <th>JeanLuc_Melenchon</th>\n",
              "      <td>2756.0</td>\n",
              "      <td>557.383527</td>\n",
              "      <td>1011.128668</td>\n",
              "      <td>43.0</td>\n",
              "      <td>133.00</td>\n",
              "      <td>258.0</td>\n",
              "      <td>558.25</td>\n",
              "      <td>21247.0</td>\n",
              "    </tr>\n",
              "    <tr>\n",
              "      <th>Marine_Lepen</th>\n",
              "      <td>2782.0</td>\n",
              "      <td>1273.794033</td>\n",
              "      <td>1181.952814</td>\n",
              "      <td>59.0</td>\n",
              "      <td>535.25</td>\n",
              "      <td>883.0</td>\n",
              "      <td>1573.75</td>\n",
              "      <td>14474.0</td>\n",
              "    </tr>\n",
              "    <tr>\n",
              "      <th>Valerie_Pecresse</th>\n",
              "      <td>2399.0</td>\n",
              "      <td>299.619842</td>\n",
              "      <td>406.906166</td>\n",
              "      <td>0.0</td>\n",
              "      <td>105.00</td>\n",
              "      <td>192.0</td>\n",
              "      <td>350.50</td>\n",
              "      <td>7622.0</td>\n",
              "    </tr>\n",
              "    <tr>\n",
              "      <th>Yannick_Jadot</th>\n",
              "      <td>1532.0</td>\n",
              "      <td>154.718016</td>\n",
              "      <td>200.760908</td>\n",
              "      <td>0.0</td>\n",
              "      <td>36.00</td>\n",
              "      <td>99.0</td>\n",
              "      <td>199.25</td>\n",
              "      <td>2778.0</td>\n",
              "    </tr>\n",
              "  </tbody>\n",
              "</table>\n",
              "</div>\n",
              "      <button class=\"colab-df-convert\" onclick=\"convertToInteractive('df-32573df8-bc55-4610-a460-57bcd5c734c7')\"\n",
              "              title=\"Convert this dataframe to an interactive table.\"\n",
              "              style=\"display:none;\">\n",
              "        \n",
              "  <svg xmlns=\"http://www.w3.org/2000/svg\" height=\"24px\"viewBox=\"0 0 24 24\"\n",
              "       width=\"24px\">\n",
              "    <path d=\"M0 0h24v24H0V0z\" fill=\"none\"/>\n",
              "    <path d=\"M18.56 5.44l.94 2.06.94-2.06 2.06-.94-2.06-.94-.94-2.06-.94 2.06-2.06.94zm-11 1L8.5 8.5l.94-2.06 2.06-.94-2.06-.94L8.5 2.5l-.94 2.06-2.06.94zm10 10l.94 2.06.94-2.06 2.06-.94-2.06-.94-.94-2.06-.94 2.06-2.06.94z\"/><path d=\"M17.41 7.96l-1.37-1.37c-.4-.4-.92-.59-1.43-.59-.52 0-1.04.2-1.43.59L10.3 9.45l-7.72 7.72c-.78.78-.78 2.05 0 2.83L4 21.41c.39.39.9.59 1.41.59.51 0 1.02-.2 1.41-.59l7.78-7.78 2.81-2.81c.8-.78.8-2.07 0-2.86zM5.41 20L4 18.59l7.72-7.72 1.47 1.35L5.41 20z\"/>\n",
              "  </svg>\n",
              "      </button>\n",
              "      \n",
              "  <style>\n",
              "    .colab-df-container {\n",
              "      display:flex;\n",
              "      flex-wrap:wrap;\n",
              "      gap: 12px;\n",
              "    }\n",
              "\n",
              "    .colab-df-convert {\n",
              "      background-color: #E8F0FE;\n",
              "      border: none;\n",
              "      border-radius: 50%;\n",
              "      cursor: pointer;\n",
              "      display: none;\n",
              "      fill: #1967D2;\n",
              "      height: 32px;\n",
              "      padding: 0 0 0 0;\n",
              "      width: 32px;\n",
              "    }\n",
              "\n",
              "    .colab-df-convert:hover {\n",
              "      background-color: #E2EBFA;\n",
              "      box-shadow: 0px 1px 2px rgba(60, 64, 67, 0.3), 0px 1px 3px 1px rgba(60, 64, 67, 0.15);\n",
              "      fill: #174EA6;\n",
              "    }\n",
              "\n",
              "    [theme=dark] .colab-df-convert {\n",
              "      background-color: #3B4455;\n",
              "      fill: #D2E3FC;\n",
              "    }\n",
              "\n",
              "    [theme=dark] .colab-df-convert:hover {\n",
              "      background-color: #434B5C;\n",
              "      box-shadow: 0px 1px 3px 1px rgba(0, 0, 0, 0.15);\n",
              "      filter: drop-shadow(0px 1px 2px rgba(0, 0, 0, 0.3));\n",
              "      fill: #FFFFFF;\n",
              "    }\n",
              "  </style>\n",
              "\n",
              "      <script>\n",
              "        const buttonEl =\n",
              "          document.querySelector('#df-32573df8-bc55-4610-a460-57bcd5c734c7 button.colab-df-convert');\n",
              "        buttonEl.style.display =\n",
              "          google.colab.kernel.accessAllowed ? 'block' : 'none';\n",
              "\n",
              "        async function convertToInteractive(key) {\n",
              "          const element = document.querySelector('#df-32573df8-bc55-4610-a460-57bcd5c734c7');\n",
              "          const dataTable =\n",
              "            await google.colab.kernel.invokeFunction('convertToInteractive',\n",
              "                                                     [key], {});\n",
              "          if (!dataTable) return;\n",
              "\n",
              "          const docLinkHtml = 'Like what you see? Visit the ' +\n",
              "            '<a target=\"_blank\" href=https://colab.research.google.com/notebooks/data_table.ipynb>data table notebook</a>'\n",
              "            + ' to learn more about interactive tables.';\n",
              "          element.innerHTML = '';\n",
              "          dataTable['output_type'] = 'display_data';\n",
              "          await google.colab.output.renderOutput(dataTable, element);\n",
              "          const docLink = document.createElement('div');\n",
              "          docLink.innerHTML = docLinkHtml;\n",
              "          element.appendChild(docLink);\n",
              "        }\n",
              "      </script>\n",
              "    </div>\n",
              "  </div>\n",
              "  "
            ],
            "text/plain": [
              "                    favorite_count               ...                   \n",
              "                             count         mean  ...      75%       max\n",
              "user_id                                          ...                   \n",
              "Anne_Hidalgo                 838.0   386.239857  ...   334.00   47058.0\n",
              "Christianne_Taubira         2402.0   246.313489  ...   145.00   39010.0\n",
              "Emmanuel_Macron             2969.0  6078.357696  ...  5756.00  204235.0\n",
              "Eric_Zemmour                2752.0  3376.126090  ...  4229.75   34664.0\n",
              "JeanLuc_Melenchon           2756.0   557.383527  ...   558.25   21247.0\n",
              "Marine_Lepen                2782.0  1273.794033  ...  1573.75   14474.0\n",
              "Valerie_Pecresse            2399.0   299.619842  ...   350.50    7622.0\n",
              "Yannick_Jadot               1532.0   154.718016  ...   199.25    2778.0\n",
              "\n",
              "[8 rows x 8 columns]"
            ]
          },
          "metadata": {},
          "execution_count": 12
        }
      ]
    },
    {
      "cell_type": "code",
      "source": [
        "\n",
        "# Quelle est la distribution des retweets de chaque candidat ?\n",
        "df_tweets.groupby([\"user_id\"])[[\"retweet_count\"]].describe()"
      ],
      "metadata": {
        "colab": {
          "base_uri": "https://localhost:8080/",
          "height": 363
        },
        "id": "a1W6RaKkqInj",
        "outputId": "16ebad39-d37d-482e-f800-0bda820f0611"
      },
      "execution_count": null,
      "outputs": [
        {
          "output_type": "execute_result",
          "data": {
            "text/html": [
              "\n",
              "  <div id=\"df-70c566bf-ca0a-4a34-a08a-f4710dc31914\">\n",
              "    <div class=\"colab-df-container\">\n",
              "      <div>\n",
              "<style scoped>\n",
              "    .dataframe tbody tr th:only-of-type {\n",
              "        vertical-align: middle;\n",
              "    }\n",
              "\n",
              "    .dataframe tbody tr th {\n",
              "        vertical-align: top;\n",
              "    }\n",
              "\n",
              "    .dataframe thead tr th {\n",
              "        text-align: left;\n",
              "    }\n",
              "\n",
              "    .dataframe thead tr:last-of-type th {\n",
              "        text-align: right;\n",
              "    }\n",
              "</style>\n",
              "<table border=\"1\" class=\"dataframe\">\n",
              "  <thead>\n",
              "    <tr>\n",
              "      <th></th>\n",
              "      <th colspan=\"8\" halign=\"left\">retweet_count</th>\n",
              "    </tr>\n",
              "    <tr>\n",
              "      <th></th>\n",
              "      <th>count</th>\n",
              "      <th>mean</th>\n",
              "      <th>std</th>\n",
              "      <th>min</th>\n",
              "      <th>25%</th>\n",
              "      <th>50%</th>\n",
              "      <th>75%</th>\n",
              "      <th>max</th>\n",
              "    </tr>\n",
              "    <tr>\n",
              "      <th>user_id</th>\n",
              "      <th></th>\n",
              "      <th></th>\n",
              "      <th></th>\n",
              "      <th></th>\n",
              "      <th></th>\n",
              "      <th></th>\n",
              "      <th></th>\n",
              "      <th></th>\n",
              "    </tr>\n",
              "  </thead>\n",
              "  <tbody>\n",
              "    <tr>\n",
              "      <th>Anne_Hidalgo</th>\n",
              "      <td>838.0</td>\n",
              "      <td>98.097852</td>\n",
              "      <td>177.219356</td>\n",
              "      <td>1.0</td>\n",
              "      <td>34.00</td>\n",
              "      <td>68.0</td>\n",
              "      <td>113.00</td>\n",
              "      <td>2900.0</td>\n",
              "    </tr>\n",
              "    <tr>\n",
              "      <th>Christianne_Taubira</th>\n",
              "      <td>2402.0</td>\n",
              "      <td>137.960866</td>\n",
              "      <td>553.241746</td>\n",
              "      <td>0.0</td>\n",
              "      <td>24.00</td>\n",
              "      <td>46.5</td>\n",
              "      <td>102.75</td>\n",
              "      <td>15718.0</td>\n",
              "    </tr>\n",
              "    <tr>\n",
              "      <th>Emmanuel_Macron</th>\n",
              "      <td>2969.0</td>\n",
              "      <td>1088.372853</td>\n",
              "      <td>2743.806652</td>\n",
              "      <td>20.0</td>\n",
              "      <td>305.00</td>\n",
              "      <td>514.0</td>\n",
              "      <td>950.00</td>\n",
              "      <td>64283.0</td>\n",
              "    </tr>\n",
              "    <tr>\n",
              "      <th>Eric_Zemmour</th>\n",
              "      <td>2752.0</td>\n",
              "      <td>844.556686</td>\n",
              "      <td>783.894937</td>\n",
              "      <td>13.0</td>\n",
              "      <td>368.00</td>\n",
              "      <td>613.0</td>\n",
              "      <td>1040.00</td>\n",
              "      <td>8698.0</td>\n",
              "    </tr>\n",
              "    <tr>\n",
              "      <th>JeanLuc_Melenchon</th>\n",
              "      <td>2756.0</td>\n",
              "      <td>194.824746</td>\n",
              "      <td>276.502632</td>\n",
              "      <td>20.0</td>\n",
              "      <td>63.00</td>\n",
              "      <td>106.0</td>\n",
              "      <td>216.00</td>\n",
              "      <td>5719.0</td>\n",
              "    </tr>\n",
              "    <tr>\n",
              "      <th>Marine_Lepen</th>\n",
              "      <td>2782.0</td>\n",
              "      <td>432.787563</td>\n",
              "      <td>364.430943</td>\n",
              "      <td>24.0</td>\n",
              "      <td>202.25</td>\n",
              "      <td>311.0</td>\n",
              "      <td>531.00</td>\n",
              "      <td>4097.0</td>\n",
              "    </tr>\n",
              "    <tr>\n",
              "      <th>Valerie_Pecresse</th>\n",
              "      <td>2399.0</td>\n",
              "      <td>98.312213</td>\n",
              "      <td>142.986371</td>\n",
              "      <td>0.0</td>\n",
              "      <td>35.00</td>\n",
              "      <td>65.0</td>\n",
              "      <td>112.00</td>\n",
              "      <td>3611.0</td>\n",
              "    </tr>\n",
              "    <tr>\n",
              "      <th>Yannick_Jadot</th>\n",
              "      <td>1532.0</td>\n",
              "      <td>60.967363</td>\n",
              "      <td>72.798983</td>\n",
              "      <td>0.0</td>\n",
              "      <td>13.00</td>\n",
              "      <td>40.0</td>\n",
              "      <td>86.00</td>\n",
              "      <td>1090.0</td>\n",
              "    </tr>\n",
              "  </tbody>\n",
              "</table>\n",
              "</div>\n",
              "      <button class=\"colab-df-convert\" onclick=\"convertToInteractive('df-70c566bf-ca0a-4a34-a08a-f4710dc31914')\"\n",
              "              title=\"Convert this dataframe to an interactive table.\"\n",
              "              style=\"display:none;\">\n",
              "        \n",
              "  <svg xmlns=\"http://www.w3.org/2000/svg\" height=\"24px\"viewBox=\"0 0 24 24\"\n",
              "       width=\"24px\">\n",
              "    <path d=\"M0 0h24v24H0V0z\" fill=\"none\"/>\n",
              "    <path d=\"M18.56 5.44l.94 2.06.94-2.06 2.06-.94-2.06-.94-.94-2.06-.94 2.06-2.06.94zm-11 1L8.5 8.5l.94-2.06 2.06-.94-2.06-.94L8.5 2.5l-.94 2.06-2.06.94zm10 10l.94 2.06.94-2.06 2.06-.94-2.06-.94-.94-2.06-.94 2.06-2.06.94z\"/><path d=\"M17.41 7.96l-1.37-1.37c-.4-.4-.92-.59-1.43-.59-.52 0-1.04.2-1.43.59L10.3 9.45l-7.72 7.72c-.78.78-.78 2.05 0 2.83L4 21.41c.39.39.9.59 1.41.59.51 0 1.02-.2 1.41-.59l7.78-7.78 2.81-2.81c.8-.78.8-2.07 0-2.86zM5.41 20L4 18.59l7.72-7.72 1.47 1.35L5.41 20z\"/>\n",
              "  </svg>\n",
              "      </button>\n",
              "      \n",
              "  <style>\n",
              "    .colab-df-container {\n",
              "      display:flex;\n",
              "      flex-wrap:wrap;\n",
              "      gap: 12px;\n",
              "    }\n",
              "\n",
              "    .colab-df-convert {\n",
              "      background-color: #E8F0FE;\n",
              "      border: none;\n",
              "      border-radius: 50%;\n",
              "      cursor: pointer;\n",
              "      display: none;\n",
              "      fill: #1967D2;\n",
              "      height: 32px;\n",
              "      padding: 0 0 0 0;\n",
              "      width: 32px;\n",
              "    }\n",
              "\n",
              "    .colab-df-convert:hover {\n",
              "      background-color: #E2EBFA;\n",
              "      box-shadow: 0px 1px 2px rgba(60, 64, 67, 0.3), 0px 1px 3px 1px rgba(60, 64, 67, 0.15);\n",
              "      fill: #174EA6;\n",
              "    }\n",
              "\n",
              "    [theme=dark] .colab-df-convert {\n",
              "      background-color: #3B4455;\n",
              "      fill: #D2E3FC;\n",
              "    }\n",
              "\n",
              "    [theme=dark] .colab-df-convert:hover {\n",
              "      background-color: #434B5C;\n",
              "      box-shadow: 0px 1px 3px 1px rgba(0, 0, 0, 0.15);\n",
              "      filter: drop-shadow(0px 1px 2px rgba(0, 0, 0, 0.3));\n",
              "      fill: #FFFFFF;\n",
              "    }\n",
              "  </style>\n",
              "\n",
              "      <script>\n",
              "        const buttonEl =\n",
              "          document.querySelector('#df-70c566bf-ca0a-4a34-a08a-f4710dc31914 button.colab-df-convert');\n",
              "        buttonEl.style.display =\n",
              "          google.colab.kernel.accessAllowed ? 'block' : 'none';\n",
              "\n",
              "        async function convertToInteractive(key) {\n",
              "          const element = document.querySelector('#df-70c566bf-ca0a-4a34-a08a-f4710dc31914');\n",
              "          const dataTable =\n",
              "            await google.colab.kernel.invokeFunction('convertToInteractive',\n",
              "                                                     [key], {});\n",
              "          if (!dataTable) return;\n",
              "\n",
              "          const docLinkHtml = 'Like what you see? Visit the ' +\n",
              "            '<a target=\"_blank\" href=https://colab.research.google.com/notebooks/data_table.ipynb>data table notebook</a>'\n",
              "            + ' to learn more about interactive tables.';\n",
              "          element.innerHTML = '';\n",
              "          dataTable['output_type'] = 'display_data';\n",
              "          await google.colab.output.renderOutput(dataTable, element);\n",
              "          const docLink = document.createElement('div');\n",
              "          docLink.innerHTML = docLinkHtml;\n",
              "          element.appendChild(docLink);\n",
              "        }\n",
              "      </script>\n",
              "    </div>\n",
              "  </div>\n",
              "  "
            ],
            "text/plain": [
              "                    retweet_count               ...                  \n",
              "                            count         mean  ...      75%      max\n",
              "user_id                                         ...                  \n",
              "Anne_Hidalgo                838.0    98.097852  ...   113.00   2900.0\n",
              "Christianne_Taubira        2402.0   137.960866  ...   102.75  15718.0\n",
              "Emmanuel_Macron            2969.0  1088.372853  ...   950.00  64283.0\n",
              "Eric_Zemmour               2752.0   844.556686  ...  1040.00   8698.0\n",
              "JeanLuc_Melenchon          2756.0   194.824746  ...   216.00   5719.0\n",
              "Marine_Lepen               2782.0   432.787563  ...   531.00   4097.0\n",
              "Valerie_Pecresse           2399.0    98.312213  ...   112.00   3611.0\n",
              "Yannick_Jadot              1532.0    60.967363  ...    86.00   1090.0\n",
              "\n",
              "[8 rows x 8 columns]"
            ]
          },
          "metadata": {},
          "execution_count": 13
        }
      ]
    },
    {
      "cell_type": "markdown",
      "source": [
        "> On voit que les candidats Emmanuel Macron et Eric Zemmour sont très suivis sur les réseaux"
      ],
      "metadata": {
        "id": "L6lTP5HCcZWS"
      }
    },
    {
      "cell_type": "markdown",
      "metadata": {
        "id": "zp38kr7YTIyP"
      },
      "source": [
        "##### Répartition du nombre de retweets / favoris dans le temps "
      ]
    },
    {
      "cell_type": "code",
      "metadata": {
        "id": "wUzv4R0HOF2p"
      },
      "source": [
        "def visualize_count_favorites(df, userID) : \n",
        "  \n",
        "  ''' Cette fonction permet de visualiser le nombre de favoris et de retweets \n",
        "  sur toute la période pour un user_id donné '''\n",
        "\n",
        "  df_temp = df.loc[df[\"user_id\"] == userID]\n",
        "  ylabels = [\"favorite_count\", \"retweet_count\"]\n",
        "\n",
        "  print(\"Représentation des nombres de retweets et de favoris de chaque tweet de {} par date\".format(userID))\n",
        "  fig = plt.figure(figsize=(13,5))\n",
        "  fig.subplots_adjust(hspace=0.01,wspace=0.01)\n",
        "\n",
        "  n_row = len(ylabels)\n",
        "  n_col = 1\n",
        "  for count, ylabel in enumerate(ylabels):\n",
        "      ax = fig.add_subplot(n_row, n_col, count + 1)\n",
        "      ax.plot(df_temp[\"created_at\"], df_temp[ylabel])\n",
        "      ax.set_ylabel(ylabel)\n",
        "  \n",
        "  plt.show()"
      ],
      "execution_count": null,
      "outputs": []
    },
    {
      "cell_type": "code",
      "metadata": {
        "colab": {
          "base_uri": "https://localhost:8080/",
          "height": 698
        },
        "id": "_EX8kGe5PMnX",
        "outputId": "946b6b7d-4c27-4989-924c-d2dbecdcdfe3"
      },
      "source": [
        "visualize_count_favorites(df_tweets, \"JeanLuc_Melenchon\")\n",
        "print(\"\\n\")\n",
        "visualize_count_favorites(df_tweets, \"Marine_Lepen\")"
      ],
      "execution_count": null,
      "outputs": [
        {
          "output_type": "stream",
          "name": "stdout",
          "text": [
            "Représentation des nombres de retweets et de favoris de chaque tweet de JeanLuc_Melenchon par date\n"
          ]
        },
        {
          "output_type": "display_data",
          "data": {
            "image/png": "[encoded data removed]",
            "text/plain": [
              "<Figure size 936x360 with 2 Axes>"
            ]
          },
          "metadata": {
            "needs_background": "light"
          }
        },
        {
          "output_type": "stream",
          "name": "stdout",
          "text": [
            "\n",
            "\n",
            "Représentation des nombres de retweets et de favoris de chaque tweet de Marine_Lepen par date\n"
          ]
        },
        {
          "output_type": "display_data",
          "data": {
            "image/png": "[encoded data removed]",
            "text/plain": [
              "<Figure size 936x360 with 2 Axes>"
            ]
          },
          "metadata": {
            "needs_background": "light"
          }
        }
      ]
    },
    {
      "cell_type": "markdown",
      "metadata": {
        "id": "u0lKdMMwADR0"
      },
      "source": [
        "> **Question** : Qu'observe-t'on ? "
      ]
    },
    {
      "cell_type": "markdown",
      "metadata": {
        "id": "VwudV8x6DFdE"
      },
      "source": [
        "**Réponse** : \n",
        "- JLM : 2 tweets ont été plus de 20K fois retweetés (alors qu'en moyenne, un tweet de JLM est retweeté 280 fois) et ont eu donc une grande popularité par rapport à son audience normale. \n",
        "- MLP a plutôt une audience stable, avec quelques tweets qui ont été plus retweetés (pic à 4K alors qu'en moyenne un tweet de MLP est retweeté 470 fois)."
      ]
    },
    {
      "cell_type": "markdown",
      "metadata": {
        "id": "xBKjp28WTWCo"
      },
      "source": [
        "##### Taille des tweets par politique \n",
        "\n",
        "Est-ce que des candidats font des tweets + ou - longs que d'autres ? "
      ]
    },
    {
      "cell_type": "markdown",
      "metadata": {
        "id": "x2GQA6vmBS8N"
      },
      "source": [
        "<details>    \n",
        "<summary>\n",
        "    <font size=\"3\" color=\"darkgreen\"><b>Aide</b></font>\n",
        "</summary>\n",
        "<p>\n",
        "<ul>\n",
        "    <li> Utilisez la fonction <a href=\"https://pandas.pydata.org/pandas-docs/stable/reference/api/pandas.Series.str.split.html\" >.split()</a> pour calculer la taille des tweets</li>\n",
        "    <li> Vous pouvez utiliser la fonction groupby et describe() </li>\n",
        "\n",
        "</ul>\n",
        "</p>"
      ]
    },
    {
      "cell_type": "code",
      "metadata": {
        "id": "_To_KRC63G6J",
        "colab": {
          "base_uri": "https://localhost:8080/",
          "height": 331
        },
        "outputId": "5a52a9c7-18ff-4474-d43b-053118cfdf10"
      },
      "source": [
        "# Calcul d'une variable contenant le nombre de mots de chaque tweets\n",
        "df_tweets[\"lenght_tweet\"] = df_tweets[\"text\"].apply(lambda tweet : len(tweet.split()))\n",
        "\n",
        "# Calcul de la distribution de la variable pour chaque politique\n",
        "df_tweets.groupby([\"user_id\"]).lenght_tweet.describe()"
      ],
      "execution_count": null,
      "outputs": [
        {
          "output_type": "execute_result",
          "data": {
            "text/html": [
              "\n",
              "  <div id=\"df-ce5b99e4-770e-4c02-aefb-8d61645e6e71\">\n",
              "    <div class=\"colab-df-container\">\n",
              "      <div>\n",
              "<style scoped>\n",
              "    .dataframe tbody tr th:only-of-type {\n",
              "        vertical-align: middle;\n",
              "    }\n",
              "\n",
              "    .dataframe tbody tr th {\n",
              "        vertical-align: top;\n",
              "    }\n",
              "\n",
              "    .dataframe thead th {\n",
              "        text-align: right;\n",
              "    }\n",
              "</style>\n",
              "<table border=\"1\" class=\"dataframe\">\n",
              "  <thead>\n",
              "    <tr style=\"text-align: right;\">\n",
              "      <th></th>\n",
              "      <th>count</th>\n",
              "      <th>mean</th>\n",
              "      <th>std</th>\n",
              "      <th>min</th>\n",
              "      <th>25%</th>\n",
              "      <th>50%</th>\n",
              "      <th>75%</th>\n",
              "      <th>max</th>\n",
              "    </tr>\n",
              "    <tr>\n",
              "      <th>user_id</th>\n",
              "      <th></th>\n",
              "      <th></th>\n",
              "      <th></th>\n",
              "      <th></th>\n",
              "      <th></th>\n",
              "      <th></th>\n",
              "      <th></th>\n",
              "      <th></th>\n",
              "    </tr>\n",
              "  </thead>\n",
              "  <tbody>\n",
              "    <tr>\n",
              "      <th>Anne_Hidalgo</th>\n",
              "      <td>838.0</td>\n",
              "      <td>31.445107</td>\n",
              "      <td>13.764054</td>\n",
              "      <td>2.0</td>\n",
              "      <td>20.0</td>\n",
              "      <td>36.0</td>\n",
              "      <td>43.0</td>\n",
              "      <td>54.0</td>\n",
              "    </tr>\n",
              "    <tr>\n",
              "      <th>Christianne_Taubira</th>\n",
              "      <td>2402.0</td>\n",
              "      <td>19.308493</td>\n",
              "      <td>7.433403</td>\n",
              "      <td>1.0</td>\n",
              "      <td>15.0</td>\n",
              "      <td>19.0</td>\n",
              "      <td>22.0</td>\n",
              "      <td>52.0</td>\n",
              "    </tr>\n",
              "    <tr>\n",
              "      <th>Emmanuel_Macron</th>\n",
              "      <td>2969.0</td>\n",
              "      <td>29.939374</td>\n",
              "      <td>13.032758</td>\n",
              "      <td>1.0</td>\n",
              "      <td>20.0</td>\n",
              "      <td>32.0</td>\n",
              "      <td>41.0</td>\n",
              "      <td>57.0</td>\n",
              "    </tr>\n",
              "    <tr>\n",
              "      <th>Eric_Zemmour</th>\n",
              "      <td>2752.0</td>\n",
              "      <td>25.817951</td>\n",
              "      <td>12.788038</td>\n",
              "      <td>1.0</td>\n",
              "      <td>16.0</td>\n",
              "      <td>26.0</td>\n",
              "      <td>36.0</td>\n",
              "      <td>55.0</td>\n",
              "    </tr>\n",
              "    <tr>\n",
              "      <th>JeanLuc_Melenchon</th>\n",
              "      <td>2756.0</td>\n",
              "      <td>33.462264</td>\n",
              "      <td>10.601255</td>\n",
              "      <td>3.0</td>\n",
              "      <td>26.0</td>\n",
              "      <td>35.0</td>\n",
              "      <td>42.0</td>\n",
              "      <td>57.0</td>\n",
              "    </tr>\n",
              "    <tr>\n",
              "      <th>Marine_Lepen</th>\n",
              "      <td>2782.0</td>\n",
              "      <td>35.859094</td>\n",
              "      <td>10.283902</td>\n",
              "      <td>1.0</td>\n",
              "      <td>31.0</td>\n",
              "      <td>39.0</td>\n",
              "      <td>43.0</td>\n",
              "      <td>56.0</td>\n",
              "    </tr>\n",
              "    <tr>\n",
              "      <th>Valerie_Pecresse</th>\n",
              "      <td>2399.0</td>\n",
              "      <td>35.304710</td>\n",
              "      <td>10.299847</td>\n",
              "      <td>1.0</td>\n",
              "      <td>30.0</td>\n",
              "      <td>38.0</td>\n",
              "      <td>43.0</td>\n",
              "      <td>58.0</td>\n",
              "    </tr>\n",
              "    <tr>\n",
              "      <th>Yannick_Jadot</th>\n",
              "      <td>1532.0</td>\n",
              "      <td>30.542428</td>\n",
              "      <td>11.402907</td>\n",
              "      <td>1.0</td>\n",
              "      <td>23.0</td>\n",
              "      <td>33.0</td>\n",
              "      <td>39.0</td>\n",
              "      <td>55.0</td>\n",
              "    </tr>\n",
              "  </tbody>\n",
              "</table>\n",
              "</div>\n",
              "      <button class=\"colab-df-convert\" onclick=\"convertToInteractive('df-ce5b99e4-770e-4c02-aefb-8d61645e6e71')\"\n",
              "              title=\"Convert this dataframe to an interactive table.\"\n",
              "              style=\"display:none;\">\n",
              "        \n",
              "  <svg xmlns=\"http://www.w3.org/2000/svg\" height=\"24px\"viewBox=\"0 0 24 24\"\n",
              "       width=\"24px\">\n",
              "    <path d=\"M0 0h24v24H0V0z\" fill=\"none\"/>\n",
              "    <path d=\"M18.56 5.44l.94 2.06.94-2.06 2.06-.94-2.06-.94-.94-2.06-.94 2.06-2.06.94zm-11 1L8.5 8.5l.94-2.06 2.06-.94-2.06-.94L8.5 2.5l-.94 2.06-2.06.94zm10 10l.94 2.06.94-2.06 2.06-.94-2.06-.94-.94-2.06-.94 2.06-2.06.94z\"/><path d=\"M17.41 7.96l-1.37-1.37c-.4-.4-.92-.59-1.43-.59-.52 0-1.04.2-1.43.59L10.3 9.45l-7.72 7.72c-.78.78-.78 2.05 0 2.83L4 21.41c.39.39.9.59 1.41.59.51 0 1.02-.2 1.41-.59l7.78-7.78 2.81-2.81c.8-.78.8-2.07 0-2.86zM5.41 20L4 18.59l7.72-7.72 1.47 1.35L5.41 20z\"/>\n",
              "  </svg>\n",
              "      </button>\n",
              "      \n",
              "  <style>\n",
              "    .colab-df-container {\n",
              "      display:flex;\n",
              "      flex-wrap:wrap;\n",
              "      gap: 12px;\n",
              "    }\n",
              "\n",
              "    .colab-df-convert {\n",
              "      background-color: #E8F0FE;\n",
              "      border: none;\n",
              "      border-radius: 50%;\n",
              "      cursor: pointer;\n",
              "      display: none;\n",
              "      fill: #1967D2;\n",
              "      height: 32px;\n",
              "      padding: 0 0 0 0;\n",
              "      width: 32px;\n",
              "    }\n",
              "\n",
              "    .colab-df-convert:hover {\n",
              "      background-color: #E2EBFA;\n",
              "      box-shadow: 0px 1px 2px rgba(60, 64, 67, 0.3), 0px 1px 3px 1px rgba(60, 64, 67, 0.15);\n",
              "      fill: #174EA6;\n",
              "    }\n",
              "\n",
              "    [theme=dark] .colab-df-convert {\n",
              "      background-color: #3B4455;\n",
              "      fill: #D2E3FC;\n",
              "    }\n",
              "\n",
              "    [theme=dark] .colab-df-convert:hover {\n",
              "      background-color: #434B5C;\n",
              "      box-shadow: 0px 1px 3px 1px rgba(0, 0, 0, 0.15);\n",
              "      filter: drop-shadow(0px 1px 2px rgba(0, 0, 0, 0.3));\n",
              "      fill: #FFFFFF;\n",
              "    }\n",
              "  </style>\n",
              "\n",
              "      <script>\n",
              "        const buttonEl =\n",
              "          document.querySelector('#df-ce5b99e4-770e-4c02-aefb-8d61645e6e71 button.colab-df-convert');\n",
              "        buttonEl.style.display =\n",
              "          google.colab.kernel.accessAllowed ? 'block' : 'none';\n",
              "\n",
              "        async function convertToInteractive(key) {\n",
              "          const element = document.querySelector('#df-ce5b99e4-770e-4c02-aefb-8d61645e6e71');\n",
              "          const dataTable =\n",
              "            await google.colab.kernel.invokeFunction('convertToInteractive',\n",
              "                                                     [key], {});\n",
              "          if (!dataTable) return;\n",
              "\n",
              "          const docLinkHtml = 'Like what you see? Visit the ' +\n",
              "            '<a target=\"_blank\" href=https://colab.research.google.com/notebooks/data_table.ipynb>data table notebook</a>'\n",
              "            + ' to learn more about interactive tables.';\n",
              "          element.innerHTML = '';\n",
              "          dataTable['output_type'] = 'display_data';\n",
              "          await google.colab.output.renderOutput(dataTable, element);\n",
              "          const docLink = document.createElement('div');\n",
              "          docLink.innerHTML = docLinkHtml;\n",
              "          element.appendChild(docLink);\n",
              "        }\n",
              "      </script>\n",
              "    </div>\n",
              "  </div>\n",
              "  "
            ],
            "text/plain": [
              "                      count       mean        std  min   25%   50%   75%   max\n",
              "user_id                                                                       \n",
              "Anne_Hidalgo          838.0  31.445107  13.764054  2.0  20.0  36.0  43.0  54.0\n",
              "Christianne_Taubira  2402.0  19.308493   7.433403  1.0  15.0  19.0  22.0  52.0\n",
              "Emmanuel_Macron      2969.0  29.939374  13.032758  1.0  20.0  32.0  41.0  57.0\n",
              "Eric_Zemmour         2752.0  25.817951  12.788038  1.0  16.0  26.0  36.0  55.0\n",
              "JeanLuc_Melenchon    2756.0  33.462264  10.601255  3.0  26.0  35.0  42.0  57.0\n",
              "Marine_Lepen         2782.0  35.859094  10.283902  1.0  31.0  39.0  43.0  56.0\n",
              "Valerie_Pecresse     2399.0  35.304710  10.299847  1.0  30.0  38.0  43.0  58.0\n",
              "Yannick_Jadot        1532.0  30.542428  11.402907  1.0  23.0  33.0  39.0  55.0"
            ]
          },
          "metadata": {},
          "execution_count": 16
        }
      ]
    },
    {
      "cell_type": "markdown",
      "metadata": {
        "id": "vdKXU6wpDV4c"
      },
      "source": [
        "**Réponse** : En moyenne : \n",
        "- Marine Lepen et Valérie Pécresse font des tweets plus longs que les autres. \n",
        "- Christianne Taubira et Eric Zemmour font des tweets plus courts que les autres."
      ]
    },
    {
      "cell_type": "markdown",
      "metadata": {
        "id": "XqT4UpSJTfOH"
      },
      "source": [
        "##### Lecture de quelques tweets"
      ]
    },
    {
      "cell_type": "code",
      "metadata": {
        "id": "5lQNubmtRSPo"
      },
      "source": [
        "def print_famous_tweets(userID, nb_favorites) :\n",
        "\n",
        "  ''' Cette fonction permet de sélectionner les tweets qui ont eu le plus de favoris \n",
        "  pour un user_id donné, et de lire le tweet avec les indicateurs des autres variables de la \n",
        "  base de données  \n",
        "  '''\n",
        "\n",
        "  df_sub = df_tweets.loc[(df_tweets.user_id==userID) & (df_tweets.favorite_count > nb_favorites),:]\n",
        "  for irow in range(df_sub.shape[0]):\n",
        "      df_row = df_sub.iloc[irow,:]\n",
        "    \n",
        "      print(df_row[\"created_at\"])\n",
        "      print(\"favorite_count={:6} retweet_count={:6}\".format(df_row[\"favorite_count\"],df_row[\"retweet_count\"]))\n",
        "      print(colored(df_row[\"text\"], 'magenta'))\n",
        "      print(\"\\n\")"
      ],
      "execution_count": null,
      "outputs": []
    },
    {
      "cell_type": "code",
      "metadata": {
        "colab": {
          "base_uri": "https://localhost:8080/"
        },
        "id": "cPPcOCJ3Rjkj",
        "outputId": "06a9e143-f0e8-4f80-8726-c8a07581f017"
      },
      "source": [
        "print_famous_tweets(\"JeanLuc_Melenchon\", 20000)"
      ],
      "execution_count": null,
      "outputs": [
        {
          "output_type": "stream",
          "name": "stdout",
          "text": [
            "2022-01-04 20:25:00\n",
            "favorite_count=21247.0 retweet_count=5719.0\n",
            "\u001b[35mLe Président maîtrise-t-il ce qu'il dit ? \n",
            "L'OMS dit « convaincre plutôt que contraindre ». Et lui ? « Emmerder davantage». Consternant.\n",
            "\n",
            "#Macron\u001b[0m\n",
            "\n",
            "\n",
            "2021-09-24 09:50:27\n",
            "favorite_count=21142.0 retweet_count=2604.0\n",
            "\u001b[35mHier, près de 100 000 personnes suivaient le #DebatBFMTV sur #Twitch sur les chaînes de @Sardoche_Lol, @HugoTravers et @DanyCaligula. Mais suite à une réclamation, ces comptes ont été ban 48h. Je le signale à Fogiel. Il faut que ça change pendant la campagne.\u001b[0m\n",
            "\n",
            "\n"
          ]
        }
      ]
    },
    {
      "cell_type": "code",
      "metadata": {
        "colab": {
          "base_uri": "https://localhost:8080/"
        },
        "id": "mZZEVFMPUMHd",
        "outputId": "ec52cfb6-81f6-4c9c-a58f-52501a7b5c46"
      },
      "source": [
        "print_famous_tweets(\"Marine_Lepen\", 10000)"
      ],
      "execution_count": null,
      "outputs": [
        {
          "output_type": "stream",
          "name": "stdout",
          "text": [
            "2021-12-31 16:43:49\n",
            "favorite_count=14474.0 retweet_count=4097.0\n",
            "\u001b[35mJe suis outrée que le drapeau français ait été remplacé par celui de l’Union européenne sous l’Arc de Triomphe, au-dessus de la tombe du soldat inconnu. \n",
            "\n",
            "Cette provocation offense ceux qui se sont battus pour la France. Je demande à E. Macron de rétablir notre drapeau national. https://t.co/sR2IfjV3sG\u001b[0m\n",
            "\n",
            "\n",
            "2020-03-14 06:33:42\n",
            "favorite_count=10881.0 retweet_count=3051.0\n",
            "\u001b[35m🇫🇷🇮🇹 Les Italiens, unis face à l’épidémie, se retrouvent à leurs balcons pour chanter leur hymne national. Très belles images de communion patriotique. \n",
            "\n",
            "Nous sommes de tout cœur avec vous ! ❤️ MLP https://t.co/XKBAtPY1K4\u001b[0m\n",
            "\n",
            "\n"
          ]
        }
      ]
    },
    {
      "cell_type": "code",
      "source": [
        "print_famous_tweets(\"Eric_Zemmour\", 20000)"
      ],
      "metadata": {
        "colab": {
          "base_uri": "https://localhost:8080/"
        },
        "id": "qqh-6vFnrp_N",
        "outputId": "3e2e0b51-4cd1-4342-ccd0-9efee33ead01"
      },
      "execution_count": null,
      "outputs": [
        {
          "output_type": "stream",
          "name": "stdout",
          "text": [
            "2022-01-05 16:24:53\n",
            "favorite_count=24894.0 retweet_count=8151.0\n",
            "\u001b[35mPendant 5 ans, Emmanuel Macron a soigneusement refusé d'« emmerder » les racailles, les gangs, les apprentis-djihadistes, les immigrés hors-la-loi, les antifas et les idéologues qui lavent les cerveaux de nos enfants. Lâche avec les forts, cruel avec les faibles.\u001b[0m\n",
            "\n",
            "\n",
            "2022-01-04 22:53:13\n",
            "favorite_count=24902.0 retweet_count=7461.0\n",
            "\u001b[35mEmmanuel Macron dit bel et bien : \"J'ai envie d'emmerder\". Ce n'est pas seulement la déclaration cynique d'un politicien qui veut exister dans la campagne présidentielle. C'est la cruauté avouée, assumée, qui parade devant des Français méprisés.\u001b[0m\n",
            "\n",
            "\n",
            "2021-11-30 11:29:07\n",
            "favorite_count=34664.0 retweet_count=8698.0\n",
            "\u001b[35mMes chers compatriotes, je suis candidat à l'élection présidentielle.\u001b[0m\n",
            "\n",
            "\n"
          ]
        }
      ]
    },
    {
      "cell_type": "markdown",
      "metadata": {
        "id": "3kZrXKcf5auz"
      },
      "source": [
        "> **Question** : Qu'y-a't'il de particulier dans les tweets par rapport à un texte normal ?"
      ]
    },
    {
      "cell_type": "markdown",
      "metadata": {
        "id": "uFb2KGuIDeDk"
      },
      "source": [
        "**Réponse** : On voit que les tweets ont une syntaxe particulère : \n",
        "- hashtags \n",
        "- liens internet\n",
        "- emojis"
      ]
    },
    {
      "cell_type": "markdown",
      "source": [
        "## **Filtres** "
      ],
      "metadata": {
        "id": "DnaderaYdF5W"
      }
    },
    {
      "cell_type": "markdown",
      "source": [
        "Filtre sur la date pour ne garder que les tweets en début de campagne (septembre 2021)"
      ],
      "metadata": {
        "id": "oErqKlS0oGV9"
      }
    },
    {
      "cell_type": "code",
      "source": [
        "DATE_MIN = \"2021-09-01 00:00:00\"\n",
        "\n",
        "df_tweets = df_tweets.loc[df_tweets[\"created_at\"] >= datetime.datetime.strptime(DATE_MIN, \"%Y-%m-%d %H:%M:%S\")] \n",
        "\n",
        "print(f\"Taille du dataframe : {len(df_tweets)}\")"
      ],
      "metadata": {
        "colab": {
          "base_uri": "https://localhost:8080/"
        },
        "id": "n-GzlhHsdQBY",
        "outputId": "c028d247-15b8-417b-bc81-cf45f64d649e"
      },
      "execution_count": null,
      "outputs": [
        {
          "output_type": "stream",
          "name": "stdout",
          "text": [
            "Taille du dataframe : 8749\n"
          ]
        }
      ]
    },
    {
      "cell_type": "markdown",
      "source": [
        "Filtre sur certains candidats"
      ],
      "metadata": {
        "id": "zNUev-yI-n6q"
      }
    },
    {
      "cell_type": "code",
      "source": [
        "candidats_select = [\"Eric_Zemmour\", \"Marine_Lepen\", \"JeanLuc_Melenchon\", \"Emmanuel_Macron\"]\n",
        "\n",
        "df_tweets = df_tweets.loc[df_tweets.user_id.isin(candidats_select)]\n",
        "# copier les données\n",
        "print(f\"Taille du dataframe : {len(df_tweets)}\")"
      ],
      "metadata": {
        "colab": {
          "base_uri": "https://localhost:8080/"
        },
        "id": "srdGi0k0-nJd",
        "outputId": "c42ab3fc-e8fe-4d40-b38d-3cb2d78662dc"
      },
      "execution_count": null,
      "outputs": [
        {
          "output_type": "stream",
          "name": "stdout",
          "text": [
            "Taille du dataframe : 6356\n"
          ]
        }
      ]
    },
    {
      "cell_type": "markdown",
      "metadata": {
        "id": "8DhFHdNx0cMZ"
      },
      "source": [
        "## **3. Preprocessing du texte**\n",
        "\n",
        "On va prendre en compte les particularités des tweets pour nettoyer le texte. \\\n",
        "On va tester les techniques de preprocessing des cours précédents sur du texte français : \n",
        "- stopwords\n",
        "- lemmatisation\n",
        "- tokenisation\n"
      ]
    },
    {
      "cell_type": "markdown",
      "metadata": {
        "id": "JKly-cTpaO0x"
      },
      "source": [
        "### Nettoyage du texte\n",
        "Dans cette partie du TP, on nettoie le texte pour enlever les mots qui vont rajouter du bruit à l'analyse (et ne rien apporter) \\\n",
        "Pour nettoyer le texte : \n",
        "- suppression des chiffres\n",
        "- suppression de certaines expressions grâce à des expressions régulières\n",
        "- suppression des stopwords\n"
      ]
    },
    {
      "cell_type": "code",
      "metadata": {
        "id": "Fy95Q4iU1tVw",
        "colab": {
          "base_uri": "https://localhost:8080/"
        },
        "outputId": "d5e8abea-3094-46df-f35a-14837ca4d0aa"
      },
      "source": [
        "# on charge le modèle français de spacy\n",
        "nlp = fr_core_news_md.load()\n",
        "print(len(nlp.Defaults.stop_words))\n",
        "\n",
        "# on peut rajouter des stopwords à la liste de spacy de cette manière : \n",
        "nlp.Defaults.stop_words |= {\"avoir\", \"falloir\", \"faire\", \"monsieur\", \"direct\",\n",
        "                            \"interview\", \"livetweet\", \"suivez\", r\"invité\\w+\", \"chaîne\", \"youtube\", \"mlp\"}\n",
        "\n",
        "for word in nlp.Defaults.stop_words :\n",
        "    for w in (word, word[0].capitalize(), word.upper()):\n",
        "        lex = nlp.vocab[w]\n",
        "        lex.is_stop = True\n",
        "\n",
        "# nombre de stopwords \n",
        "len(nlp.Defaults.stop_words)"
      ],
      "execution_count": null,
      "outputs": [
        {
          "output_type": "stream",
          "name": "stdout",
          "text": [
            "600\n"
          ]
        },
        {
          "output_type": "execute_result",
          "data": {
            "text/plain": [
              "611"
            ]
          },
          "metadata": {},
          "execution_count": 23
        }
      ]
    },
    {
      "cell_type": "markdown",
      "metadata": {
        "id": "Y1OFocC9d6cG"
      },
      "source": [
        "> **Conseil** :  Regarder toujours la liste entière de stopwords proposés pour enlever certains mots qui seraient utiles dans votre étude ou rajouter des stopwords non présents dans la liste"
      ]
    },
    {
      "cell_type": "markdown",
      "source": [
        "La cellule ci-dessous donne un exemple d'informations que peut donner Spacy : "
      ],
      "metadata": {
        "id": "NRe9ueXb7EBO"
      }
    },
    {
      "cell_type": "code",
      "source": [
        "doc = nlp(r\"Demain je travaille \\n\\n à la maison. #fatigué @hetik \\n https://test.com\")\n",
        "\n",
        "list_spacy = []\n",
        "                \n",
        "for token in doc : \n",
        "  list_spacy.append([token.text,\n",
        "                        token.idx,\n",
        "                        token.lemma_,\n",
        "                        token.is_punct,\n",
        "                        token.is_space,\n",
        "                        token.is_alpha,\n",
        "                        token.shape_,\n",
        "                        token.pos_,\n",
        "                        token.tag_,\n",
        "                        token.ent_type_])\n",
        "  \n",
        "exemple_spacy = pd.DataFrame(list_spacy, columns=[\"text\", \"idx\",\"lemma\",\"is_punct\",\"is_space\",\"is_alpha\",\"shape\",\"pos\",\"tag\",\"ent_type\"])\n",
        "exemple_spacy"
      ],
      "metadata": {
        "colab": {
          "base_uri": "https://localhost:8080/",
          "height": 457
        },
        "id": "CPjNsb5n9dXi",
        "outputId": "dd6695d1-285c-4adf-f73b-c527da7bef67"
      },
      "execution_count": null,
      "outputs": [
        {
          "output_type": "execute_result",
          "data": {
            "text/html": [
              "\n",
              "  <div id=\"df-9444946e-7581-477e-8f67-7df620c99ba7\">\n",
              "    <div class=\"colab-df-container\">\n",
              "      <div>\n",
              "<style scoped>\n",
              "    .dataframe tbody tr th:only-of-type {\n",
              "        vertical-align: middle;\n",
              "    }\n",
              "\n",
              "    .dataframe tbody tr th {\n",
              "        vertical-align: top;\n",
              "    }\n",
              "\n",
              "    .dataframe thead th {\n",
              "        text-align: right;\n",
              "    }\n",
              "</style>\n",
              "<table border=\"1\" class=\"dataframe\">\n",
              "  <thead>\n",
              "    <tr style=\"text-align: right;\">\n",
              "      <th></th>\n",
              "      <th>text</th>\n",
              "      <th>idx</th>\n",
              "      <th>lemma</th>\n",
              "      <th>is_punct</th>\n",
              "      <th>is_space</th>\n",
              "      <th>is_alpha</th>\n",
              "      <th>shape</th>\n",
              "      <th>pos</th>\n",
              "      <th>tag</th>\n",
              "      <th>ent_type</th>\n",
              "    </tr>\n",
              "  </thead>\n",
              "  <tbody>\n",
              "    <tr>\n",
              "      <th>0</th>\n",
              "      <td>Demain</td>\n",
              "      <td>0</td>\n",
              "      <td>demain</td>\n",
              "      <td>False</td>\n",
              "      <td>False</td>\n",
              "      <td>True</td>\n",
              "      <td>Xxxxx</td>\n",
              "      <td>ADV</td>\n",
              "      <td>ADV___</td>\n",
              "      <td></td>\n",
              "    </tr>\n",
              "    <tr>\n",
              "      <th>1</th>\n",
              "      <td>je</td>\n",
              "      <td>7</td>\n",
              "      <td>je</td>\n",
              "      <td>False</td>\n",
              "      <td>False</td>\n",
              "      <td>True</td>\n",
              "      <td>xx</td>\n",
              "      <td>PRON</td>\n",
              "      <td>PRON__Number=Sing|Person=1</td>\n",
              "      <td></td>\n",
              "    </tr>\n",
              "    <tr>\n",
              "      <th>2</th>\n",
              "      <td>travaille</td>\n",
              "      <td>10</td>\n",
              "      <td>travaille</td>\n",
              "      <td>False</td>\n",
              "      <td>False</td>\n",
              "      <td>True</td>\n",
              "      <td>xxxx</td>\n",
              "      <td>VERB</td>\n",
              "      <td>VERB__Mood=Ind|Number=Sing|Person=1|Tense=Pres...</td>\n",
              "      <td></td>\n",
              "    </tr>\n",
              "    <tr>\n",
              "      <th>3</th>\n",
              "      <td>\\n\\n</td>\n",
              "      <td>20</td>\n",
              "      <td>\\n\\n</td>\n",
              "      <td>False</td>\n",
              "      <td>False</td>\n",
              "      <td>False</td>\n",
              "      <td>\\x\\x</td>\n",
              "      <td>ADJ</td>\n",
              "      <td>ADJ___</td>\n",
              "      <td></td>\n",
              "    </tr>\n",
              "    <tr>\n",
              "      <th>4</th>\n",
              "      <td>à</td>\n",
              "      <td>25</td>\n",
              "      <td>à</td>\n",
              "      <td>False</td>\n",
              "      <td>False</td>\n",
              "      <td>True</td>\n",
              "      <td>x</td>\n",
              "      <td>ADP</td>\n",
              "      <td>ADP___</td>\n",
              "      <td></td>\n",
              "    </tr>\n",
              "    <tr>\n",
              "      <th>5</th>\n",
              "      <td>la</td>\n",
              "      <td>27</td>\n",
              "      <td>le</td>\n",
              "      <td>False</td>\n",
              "      <td>False</td>\n",
              "      <td>True</td>\n",
              "      <td>xx</td>\n",
              "      <td>DET</td>\n",
              "      <td>DET__Definite=Def|Gender=Fem|Number=Sing|PronT...</td>\n",
              "      <td></td>\n",
              "    </tr>\n",
              "    <tr>\n",
              "      <th>6</th>\n",
              "      <td>maison</td>\n",
              "      <td>30</td>\n",
              "      <td>maison</td>\n",
              "      <td>False</td>\n",
              "      <td>False</td>\n",
              "      <td>True</td>\n",
              "      <td>xxxx</td>\n",
              "      <td>NOUN</td>\n",
              "      <td>NOUN__Gender=Fem|Number=Sing</td>\n",
              "      <td></td>\n",
              "    </tr>\n",
              "    <tr>\n",
              "      <th>7</th>\n",
              "      <td>.</td>\n",
              "      <td>36</td>\n",
              "      <td>.</td>\n",
              "      <td>True</td>\n",
              "      <td>False</td>\n",
              "      <td>False</td>\n",
              "      <td>.</td>\n",
              "      <td>PUNCT</td>\n",
              "      <td>PUNCT___</td>\n",
              "      <td></td>\n",
              "    </tr>\n",
              "    <tr>\n",
              "      <th>8</th>\n",
              "      <td>#</td>\n",
              "      <td>38</td>\n",
              "      <td>#</td>\n",
              "      <td>True</td>\n",
              "      <td>False</td>\n",
              "      <td>False</td>\n",
              "      <td>#</td>\n",
              "      <td>NOUN</td>\n",
              "      <td>NOUN__Gender=Fem|Number=Sing</td>\n",
              "      <td></td>\n",
              "    </tr>\n",
              "    <tr>\n",
              "      <th>9</th>\n",
              "      <td>fatigué</td>\n",
              "      <td>39</td>\n",
              "      <td>fatiguer</td>\n",
              "      <td>False</td>\n",
              "      <td>False</td>\n",
              "      <td>True</td>\n",
              "      <td>xxxx</td>\n",
              "      <td>VERB</td>\n",
              "      <td>VERB__Gender=Masc|Number=Sing|Tense=Past|VerbF...</td>\n",
              "      <td></td>\n",
              "    </tr>\n",
              "    <tr>\n",
              "      <th>10</th>\n",
              "      <td>@hetik</td>\n",
              "      <td>47</td>\n",
              "      <td>@hetik</td>\n",
              "      <td>False</td>\n",
              "      <td>False</td>\n",
              "      <td>False</td>\n",
              "      <td>@xxxx</td>\n",
              "      <td>PROPN</td>\n",
              "      <td>PROPN___</td>\n",
              "      <td></td>\n",
              "    </tr>\n",
              "    <tr>\n",
              "      <th>11</th>\n",
              "      <td>\\n</td>\n",
              "      <td>54</td>\n",
              "      <td>\\n</td>\n",
              "      <td>False</td>\n",
              "      <td>False</td>\n",
              "      <td>False</td>\n",
              "      <td>\\x</td>\n",
              "      <td>SPACE</td>\n",
              "      <td>_SP</td>\n",
              "      <td></td>\n",
              "    </tr>\n",
              "    <tr>\n",
              "      <th>12</th>\n",
              "      <td>https://test.com</td>\n",
              "      <td>57</td>\n",
              "      <td>https://test.com</td>\n",
              "      <td>False</td>\n",
              "      <td>False</td>\n",
              "      <td>False</td>\n",
              "      <td>xxxx://xxxx.xxx</td>\n",
              "      <td>VERB</td>\n",
              "      <td>VERB__Tense=Past|VerbForm=Part|Voice=Pass</td>\n",
              "      <td></td>\n",
              "    </tr>\n",
              "  </tbody>\n",
              "</table>\n",
              "</div>\n",
              "      <button class=\"colab-df-convert\" onclick=\"convertToInteractive('df-9444946e-7581-477e-8f67-7df620c99ba7')\"\n",
              "              title=\"Convert this dataframe to an interactive table.\"\n",
              "              style=\"display:none;\">\n",
              "        \n",
              "  <svg xmlns=\"http://www.w3.org/2000/svg\" height=\"24px\"viewBox=\"0 0 24 24\"\n",
              "       width=\"24px\">\n",
              "    <path d=\"M0 0h24v24H0V0z\" fill=\"none\"/>\n",
              "    <path d=\"M18.56 5.44l.94 2.06.94-2.06 2.06-.94-2.06-.94-.94-2.06-.94 2.06-2.06.94zm-11 1L8.5 8.5l.94-2.06 2.06-.94-2.06-.94L8.5 2.5l-.94 2.06-2.06.94zm10 10l.94 2.06.94-2.06 2.06-.94-2.06-.94-.94-2.06-.94 2.06-2.06.94z\"/><path d=\"M17.41 7.96l-1.37-1.37c-.4-.4-.92-.59-1.43-.59-.52 0-1.04.2-1.43.59L10.3 9.45l-7.72 7.72c-.78.78-.78 2.05 0 2.83L4 21.41c.39.39.9.59 1.41.59.51 0 1.02-.2 1.41-.59l7.78-7.78 2.81-2.81c.8-.78.8-2.07 0-2.86zM5.41 20L4 18.59l7.72-7.72 1.47 1.35L5.41 20z\"/>\n",
              "  </svg>\n",
              "      </button>\n",
              "      \n",
              "  <style>\n",
              "    .colab-df-container {\n",
              "      display:flex;\n",
              "      flex-wrap:wrap;\n",
              "      gap: 12px;\n",
              "    }\n",
              "\n",
              "    .colab-df-convert {\n",
              "      background-color: #E8F0FE;\n",
              "      border: none;\n",
              "      border-radius: 50%;\n",
              "      cursor: pointer;\n",
              "      display: none;\n",
              "      fill: #1967D2;\n",
              "      height: 32px;\n",
              "      padding: 0 0 0 0;\n",
              "      width: 32px;\n",
              "    }\n",
              "\n",
              "    .colab-df-convert:hover {\n",
              "      background-color: #E2EBFA;\n",
              "      box-shadow: 0px 1px 2px rgba(60, 64, 67, 0.3), 0px 1px 3px 1px rgba(60, 64, 67, 0.15);\n",
              "      fill: #174EA6;\n",
              "    }\n",
              "\n",
              "    [theme=dark] .colab-df-convert {\n",
              "      background-color: #3B4455;\n",
              "      fill: #D2E3FC;\n",
              "    }\n",
              "\n",
              "    [theme=dark] .colab-df-convert:hover {\n",
              "      background-color: #434B5C;\n",
              "      box-shadow: 0px 1px 3px 1px rgba(0, 0, 0, 0.15);\n",
              "      filter: drop-shadow(0px 1px 2px rgba(0, 0, 0, 0.3));\n",
              "      fill: #FFFFFF;\n",
              "    }\n",
              "  </style>\n",
              "\n",
              "      <script>\n",
              "        const buttonEl =\n",
              "          document.querySelector('#df-9444946e-7581-477e-8f67-7df620c99ba7 button.colab-df-convert');\n",
              "        buttonEl.style.display =\n",
              "          google.colab.kernel.accessAllowed ? 'block' : 'none';\n",
              "\n",
              "        async function convertToInteractive(key) {\n",
              "          const element = document.querySelector('#df-9444946e-7581-477e-8f67-7df620c99ba7');\n",
              "          const dataTable =\n",
              "            await google.colab.kernel.invokeFunction('convertToInteractive',\n",
              "                                                     [key], {});\n",
              "          if (!dataTable) return;\n",
              "\n",
              "          const docLinkHtml = 'Like what you see? Visit the ' +\n",
              "            '<a target=\"_blank\" href=https://colab.research.google.com/notebooks/data_table.ipynb>data table notebook</a>'\n",
              "            + ' to learn more about interactive tables.';\n",
              "          element.innerHTML = '';\n",
              "          dataTable['output_type'] = 'display_data';\n",
              "          await google.colab.output.renderOutput(dataTable, element);\n",
              "          const docLink = document.createElement('div');\n",
              "          docLink.innerHTML = docLinkHtml;\n",
              "          element.appendChild(docLink);\n",
              "        }\n",
              "      </script>\n",
              "    </div>\n",
              "  </div>\n",
              "  "
            ],
            "text/plain": [
              "                text  ...  ent_type\n",
              "0             Demain  ...          \n",
              "1                 je  ...          \n",
              "2          travaille  ...          \n",
              "3               \\n\\n  ...          \n",
              "4                  à  ...          \n",
              "5                 la  ...          \n",
              "6             maison  ...          \n",
              "7                  .  ...          \n",
              "8                  #  ...          \n",
              "9            fatigué  ...          \n",
              "10            @hetik  ...          \n",
              "11                \\n  ...          \n",
              "12  https://test.com  ...          \n",
              "\n",
              "[13 rows x 10 columns]"
            ]
          },
          "metadata": {},
          "execution_count": 24
        }
      ]
    },
    {
      "cell_type": "markdown",
      "metadata": {
        "id": "Jmt4HyRYFc3v"
      },
      "source": [
        "Expressions régulières pour nettoyer le texte "
      ]
    },
    {
      "cell_type": "code",
      "metadata": {
        "id": "2lRtXHvi8K_H"
      },
      "source": [
        "regexp_link = re.compile(r\"http\\S+\") # suppression des liens\n",
        "regexp_number = re.compile(r\"\\d+[h., ]?\\d*\") # suppression des chiffres"
      ],
      "execution_count": null,
      "outputs": []
    },
    {
      "cell_type": "markdown",
      "metadata": {
        "id": "MAyZ8veVFz36"
      },
      "source": [
        "**TODO** : Créer une expression régulière pour supprimer les hashtags et @"
      ]
    },
    {
      "cell_type": "markdown",
      "metadata": {
        "id": "W9a6YQrBGs8s"
      },
      "source": [
        "<details>    \n",
        "<summary>\n",
        "    <font size=\"3\" color=\"darkgreen\"><b>Aide</b></font>\n",
        "</summary>\n",
        "<p>\n",
        "Lorsque vous cherchez à créer des expressions régulières, vous pouvez vous aider en allant sur ce site : <a href=\"https://regex101.com/\" >regex101.com</a> \n",
        "</p> "
      ]
    },
    {
      "cell_type": "code",
      "metadata": {
        "id": "jHi1pQKqFzAv"
      },
      "source": [
        "regexp_hashtags = re.compile(r\"[#@]\\w+\")    # suppression des hashtags et @"
      ],
      "execution_count": null,
      "outputs": []
    },
    {
      "cell_type": "code",
      "metadata": {
        "colab": {
          "base_uri": "https://localhost:8080/",
          "height": 36
        },
        "id": "vdwCZ4qCx3NN",
        "outputId": "50545ec0-7a47-46db-d349-45bd9b46f2b5"
      },
      "source": [
        "test_hashtags = \"#Fuck ça #ne marche @pas !!\"\n",
        "re.sub(regexp_hashtags, \"\", test_hashtags)"
      ],
      "execution_count": null,
      "outputs": [
        {
          "output_type": "execute_result",
          "data": {
            "application/vnd.google.colaboratory.intrinsic+json": {
              "type": "string"
            },
            "text/plain": [
              "' ça  marche  !!'"
            ]
          },
          "metadata": {},
          "execution_count": 27
        }
      ]
    },
    {
      "cell_type": "markdown",
      "metadata": {
        "id": "6nxhbp6BtLeK"
      },
      "source": [
        "Création de la fonction de nettoyage du texte \n",
        "\n",
        "**TODO** : coder plusieurs fonctions :      \n",
        "- une fonction `clean_text_spacy` qui prend en entrée un tweet et utilise spacy pour :     \n",
        "    - supprimer les ponctuations ; \n",
        "    - supprimer les stopwords ; \n",
        "    - supprimer les caractères de type espace (\\n, \\t, etc.)\n",
        "Cette fonction garde les tokens entiers\n",
        "- une fonction `clean_lemmatize` :     \n",
        "    - supprimer les ponctuations ; \n",
        "    - supprimer les stopwords ; \n",
        "    - supprimer les caractères de type espace (/n, /t, etc.)\n",
        "Cette fonction garde non pas les tokens entiers, mais les lemmes. \n",
        "- une fonction chapeau `preprocess_tweet` qui : \n",
        "  - met les mots en minuscule\n",
        "  - supprime les mots des expressions régulières\n",
        "  - au choix applique la fonction `clean_text_spacy` ou `clean_lemmatize`"
      ]
    },
    {
      "cell_type": "markdown",
      "source": [
        "<details>    \n",
        "<summary>\n",
        "    <font size=\"3\" color=\"darkgreen\"><b>Aide</b></font>\n",
        "</summary>\n",
        "<p>\n",
        "Lorsque vous utilisez les fonctions de spacy, vous allez potentiellement les tokeniser directement (et récupérer une liste au lieu d'un texte). Pour éviter cela, transformez le résultat de cette manière :    \n",
        "\n",
        "```\n",
        "result = \" \".join(result)\n",
        "```\n",
        "\n",
        "</p> "
      ],
      "metadata": {
        "id": "-zMFwvX7eiS7"
      }
    },
    {
      "cell_type": "code",
      "metadata": {
        "id": "E5ewxEkoNZrM"
      },
      "source": [
        "def clean_txt_spacy(doc):\n",
        "\n",
        "  clean_text = [token.text for token in doc if (not token.is_punct) and \n",
        "                                               (not token.is_stop) and \n",
        "                                               (token.pos_ != 'SPACE') ]\n",
        "  clean_text = \" \".join(clean_text)\n",
        "\n",
        "  return clean_text\n",
        "\n",
        "\n",
        "def lemmatize(doc):\n",
        "\n",
        "  lemmatized_text = [token.lemma_ for token in doc if (not token.is_punct) and \n",
        "                                                      (not token.is_stop) and \n",
        "                                                      (token.pos_ != 'SPACE') ]\n",
        "  lemmatized_text = \" \".join(lemmatized_text)\n",
        "\n",
        "  return lemmatized_text"
      ],
      "execution_count": null,
      "outputs": []
    },
    {
      "cell_type": "code",
      "source": [
        "# J'ai rajouté cette fonction en plus, grâce à l'intervention d'un de vos camarades, si vous souhaitez supprimer les emojis dans votre texte\n",
        "# Scattertext gère bien les emojis, mais dans votre modélisation, les emojis ne seront pas pris en compte. \n",
        "emoji_pattern = re.compile(\"[\"\n",
        "                           u\"\\U0001F600-\\U0001F64F\"  # emoticons\n",
        "                           u\"\\U0001F300-\\U0001F5FF\"  # symbols & pictographs\n",
        "                           u\"\\U0001F680-\\U0001F6FF\"  # transport & map symbols\n",
        "                           u\"\\U0001F1E0-\\U0001F1FF\"  # flags (iOS)\n",
        "                           u\"\\U00002702-\\U000027B0\"\n",
        "                           u\"\\U000024C2-\\U0001F251\"\n",
        "                           \"]+\", flags=re.UNICODE)\n",
        "\n",
        "tweet_test = \"Ils Pensaient se moquer #non, ils m'ont donné 1 slogan !😄 \\n\\n- Entretien à découvrir et partager \\n\\nhttps://t.co/Yn60Areagu\"\n",
        "print(emoji_pattern.sub(r'', tweet_test)) # no emoji"
      ],
      "metadata": {
        "colab": {
          "base_uri": "https://localhost:8080/"
        },
        "id": "i9xtPt6jy3Le",
        "outputId": "1aa12073-d457-4953-e9df-1a0ad358b0f3"
      },
      "execution_count": null,
      "outputs": [
        {
          "output_type": "stream",
          "name": "stdout",
          "text": [
            "Ils Pensaient se moquer #non, ils m'ont donné 1 slogan ! \n",
            "\n",
            "- Entretien à découvrir et partager \n",
            "\n",
            "https://t.co/Yn60Areagu\n"
          ]
        }
      ]
    },
    {
      "cell_type": "code",
      "metadata": {
        "id": "g003RzZtuZjs"
      },
      "source": [
        "def preprocess_tweet(text, lemmatizing=True) : \n",
        "\n",
        "  '''Fonction permettant de nettoyer le texte. Elle renvoie un string (pas de tokenisation encore)'''\n",
        "  #text_clean = emoji_pattern.sub(r'', text) si vous voulez supprimer les emojis dans votre nettoyage de texte, \n",
        "  # et décommentez cette ligne et changer text en text_clean dans la ligne en dessous\n",
        "  text_clean = text.lower().encode('utf-8').decode('utf-8')\n",
        "  text_clean = re.sub(regexp_link, \"\", text_clean)\n",
        "  text_clean = re.sub(regexp_hashtags, \"\", text_clean)\n",
        "  text_clean = re.sub(regexp_number, \"\", text_clean)\n",
        "\n",
        "  # utilisation de spacy\n",
        "  doc = nlp(text_clean)\n",
        "  if lemmatizing :\n",
        "    preprocessed_tweet = lemmatize(doc)\n",
        "  else : \n",
        "    preprocessed_tweet = clean_txt_spacy(doc)\n",
        "\n",
        "  return preprocessed_tweet "
      ],
      "execution_count": null,
      "outputs": []
    },
    {
      "cell_type": "code",
      "metadata": {
        "colab": {
          "base_uri": "https://localhost:8080/",
          "height": 36
        },
        "id": "Q29TpjgduNNn",
        "outputId": "9bbea0d8-5806-4a21-c3bb-3389a027730c"
      },
      "source": [
        "# exemple pour tester sa fonction\n",
        "tweet_test = \"Ils Pensaient se moquer #non, ils m'ont donné 1 slogan !😄 \\n\\n- Entretien à découvrir et partager \\n\\nhttps://t.co/Yn60Areagu\"\n",
        "preprocess_tweet(tweet_test, lemmatizing=True)"
      ],
      "execution_count": null,
      "outputs": [
        {
          "output_type": "execute_result",
          "data": {
            "application/vnd.google.colaboratory.intrinsic+json": {
              "type": "string"
            },
            "text/plain": [
              "'pensaient moquer donner slogan 😄 entretien découvrir partager'"
            ]
          },
          "metadata": {},
          "execution_count": 31
        }
      ]
    },
    {
      "cell_type": "markdown",
      "metadata": {
        "id": "EM7IBszTuzPI"
      },
      "source": [
        "\n",
        "Réponse attendue : \n",
        "```python \n",
        "'pensaient moquer donner slogan 😄 entretien découvrir partager'\n",
        "```"
      ]
    },
    {
      "cell_type": "code",
      "metadata": {
        "id": "yIm-BrUhur1c"
      },
      "source": [
        "# On peut alors nettoyer nos tweets, et créer une nouvelle colonne, text_preprocess\n",
        "# cela peut prendre un peu de temps...  \n",
        "df_tweets[\"text_preprocess\"] = df_tweets[\"text\"].apply(lambda tweet : preprocess_tweet(tweet, \n",
        "                                                                                       lemmatizing = True))"
      ],
      "execution_count": null,
      "outputs": []
    },
    {
      "cell_type": "code",
      "metadata": {
        "colab": {
          "base_uri": "https://localhost:8080/",
          "height": 372
        },
        "id": "I9r8M8v7TClI",
        "outputId": "fba83cd7-37b0-4244-d34f-87d1d9688be8"
      },
      "source": [
        "# On regarde le résultat du nettoyage du texte\n",
        "pd.set_option(\"max_colwidth\", None)\n",
        "df_tweets[[\"text\", \"text_preprocess\"]].head(5)"
      ],
      "execution_count": null,
      "outputs": [
        {
          "output_type": "execute_result",
          "data": {
            "text/html": [
              "\n",
              "  <div id=\"df-dec48309-234e-4d29-a107-242aa2bb5cd6\">\n",
              "    <div class=\"colab-df-container\">\n",
              "      <div>\n",
              "<style scoped>\n",
              "    .dataframe tbody tr th:only-of-type {\n",
              "        vertical-align: middle;\n",
              "    }\n",
              "\n",
              "    .dataframe tbody tr th {\n",
              "        vertical-align: top;\n",
              "    }\n",
              "\n",
              "    .dataframe thead th {\n",
              "        text-align: right;\n",
              "    }\n",
              "</style>\n",
              "<table border=\"1\" class=\"dataframe\">\n",
              "  <thead>\n",
              "    <tr style=\"text-align: right;\">\n",
              "      <th></th>\n",
              "      <th>text</th>\n",
              "      <th>text_preprocess</th>\n",
              "    </tr>\n",
              "  </thead>\n",
              "  <tbody>\n",
              "    <tr>\n",
              "      <th>0</th>\n",
              "      <td>Redonner du sens à la gauche : se rassembler avec le Parlement de l'Union Populaire - Tribune de membres du @ParlementPop. \\n\\nhttps://t.co/JzBPeFNSOz</td>\n",
              "      <td>redonner sens gauche rassembler parlement union populaire tribune membre</td>\n",
              "    </tr>\n",
              "    <tr>\n",
              "      <th>1</th>\n",
              "      <td>L’inscription sur les listes électorales c’est jusqu’au 4 mars et c’est le moyen de faire \\n✅ la 6e République\\n✅ le SMIC à 1400€ nets\\n✅ la règle verte \\n✅ la retraite à 60 ans\\n✅ une France indépendante au service de la paix\\n\\n➡️ Ça se passe ici : https://t.co/FJUbiFzRFI https://t.co/orrqlIgQ42</td>\n",
              "      <td>inscription liste électoral jusqu’ mars moyen ✅ e république ✅ smic euro net ✅ règle vert ✅ retraite an ✅ france indépendant service paix ➡ ️ passer ici</td>\n",
              "    </tr>\n",
              "    <tr>\n",
              "      <th>2</th>\n",
              "      <td>🔴 Rendez-vous ce dimanche 30 janvier à 20h55 sur France 5 pour #cdanslair. https://t.co/Z7nsNC1rg4</td>\n",
              "      <td>🔴 rendre dimanche janvier france</td>\n",
              "    </tr>\n",
              "    <tr>\n",
              "      <th>3</th>\n",
              "      <td>3 solutions pour financer la retraite à 60 ans\\n\\n✅ Égalité salariale femmes-hommes\\n✅ Augmenter les cotisations pour les salaires supérieurs à 3400€\\n✅ Augmenter les cotisations patronales avec un fond de péréquation inter-entreprises pour que les grosses payent pour les petites https://t.co/WSCD1xX5Qt</td>\n",
              "      <td>solution financer retraite an ✅ égalité salarial femme homme ✅ augmenter cotisation salaire supérieur euro ✅ augmenter cotisation patronal fond péréquation inter-entrepriser gros payer petit</td>\n",
              "    </tr>\n",
              "    <tr>\n",
              "      <th>4</th>\n",
              "      <td>La Méditerranée est le plus grand cimetière du monde. Ceux qui émigrent ne partent pas par plaisir. Il faut donc arrêter les accords commerciaux déséquilibrés. Mais quand les gens sont là, il ne faut pas les maltraiter. Il faut les traiter humainement et dignement.\\n\\n#FaceABaba https://t.co/K2VLIbH7dI</td>\n",
              "      <td>méditerranée grand cimetière monde émigrer partir plaisir falloir arrêter accord commercial déséquilibré falloir maltraiter falloir traiter humainement dignement</td>\n",
              "    </tr>\n",
              "  </tbody>\n",
              "</table>\n",
              "</div>\n",
              "      <button class=\"colab-df-convert\" onclick=\"convertToInteractive('df-dec48309-234e-4d29-a107-242aa2bb5cd6')\"\n",
              "              title=\"Convert this dataframe to an interactive table.\"\n",
              "              style=\"display:none;\">\n",
              "        \n",
              "  <svg xmlns=\"http://www.w3.org/2000/svg\" height=\"24px\"viewBox=\"0 0 24 24\"\n",
              "       width=\"24px\">\n",
              "    <path d=\"M0 0h24v24H0V0z\" fill=\"none\"/>\n",
              "    <path d=\"M18.56 5.44l.94 2.06.94-2.06 2.06-.94-2.06-.94-.94-2.06-.94 2.06-2.06.94zm-11 1L8.5 8.5l.94-2.06 2.06-.94-2.06-.94L8.5 2.5l-.94 2.06-2.06.94zm10 10l.94 2.06.94-2.06 2.06-.94-2.06-.94-.94-2.06-.94 2.06-2.06.94z\"/><path d=\"M17.41 7.96l-1.37-1.37c-.4-.4-.92-.59-1.43-.59-.52 0-1.04.2-1.43.59L10.3 9.45l-7.72 7.72c-.78.78-.78 2.05 0 2.83L4 21.41c.39.39.9.59 1.41.59.51 0 1.02-.2 1.41-.59l7.78-7.78 2.81-2.81c.8-.78.8-2.07 0-2.86zM5.41 20L4 18.59l7.72-7.72 1.47 1.35L5.41 20z\"/>\n",
              "  </svg>\n",
              "      </button>\n",
              "      \n",
              "  <style>\n",
              "    .colab-df-container {\n",
              "      display:flex;\n",
              "      flex-wrap:wrap;\n",
              "      gap: 12px;\n",
              "    }\n",
              "\n",
              "    .colab-df-convert {\n",
              "      background-color: #E8F0FE;\n",
              "      border: none;\n",
              "      border-radius: 50%;\n",
              "      cursor: pointer;\n",
              "      display: none;\n",
              "      fill: #1967D2;\n",
              "      height: 32px;\n",
              "      padding: 0 0 0 0;\n",
              "      width: 32px;\n",
              "    }\n",
              "\n",
              "    .colab-df-convert:hover {\n",
              "      background-color: #E2EBFA;\n",
              "      box-shadow: 0px 1px 2px rgba(60, 64, 67, 0.3), 0px 1px 3px 1px rgba(60, 64, 67, 0.15);\n",
              "      fill: #174EA6;\n",
              "    }\n",
              "\n",
              "    [theme=dark] .colab-df-convert {\n",
              "      background-color: #3B4455;\n",
              "      fill: #D2E3FC;\n",
              "    }\n",
              "\n",
              "    [theme=dark] .colab-df-convert:hover {\n",
              "      background-color: #434B5C;\n",
              "      box-shadow: 0px 1px 3px 1px rgba(0, 0, 0, 0.15);\n",
              "      filter: drop-shadow(0px 1px 2px rgba(0, 0, 0, 0.3));\n",
              "      fill: #FFFFFF;\n",
              "    }\n",
              "  </style>\n",
              "\n",
              "      <script>\n",
              "        const buttonEl =\n",
              "          document.querySelector('#df-dec48309-234e-4d29-a107-242aa2bb5cd6 button.colab-df-convert');\n",
              "        buttonEl.style.display =\n",
              "          google.colab.kernel.accessAllowed ? 'block' : 'none';\n",
              "\n",
              "        async function convertToInteractive(key) {\n",
              "          const element = document.querySelector('#df-dec48309-234e-4d29-a107-242aa2bb5cd6');\n",
              "          const dataTable =\n",
              "            await google.colab.kernel.invokeFunction('convertToInteractive',\n",
              "                                                     [key], {});\n",
              "          if (!dataTable) return;\n",
              "\n",
              "          const docLinkHtml = 'Like what you see? Visit the ' +\n",
              "            '<a target=\"_blank\" href=https://colab.research.google.com/notebooks/data_table.ipynb>data table notebook</a>'\n",
              "            + ' to learn more about interactive tables.';\n",
              "          element.innerHTML = '';\n",
              "          dataTable['output_type'] = 'display_data';\n",
              "          await google.colab.output.renderOutput(dataTable, element);\n",
              "          const docLink = document.createElement('div');\n",
              "          docLink.innerHTML = docLinkHtml;\n",
              "          element.appendChild(docLink);\n",
              "        }\n",
              "      </script>\n",
              "    </div>\n",
              "  </div>\n",
              "  "
            ],
            "text/plain": [
              "                                                                                                                                                                                                                                                                                                               text                                                                                                                                                                                 text_preprocess\n",
              "0                                                                                                                                                            Redonner du sens à la gauche : se rassembler avec le Parlement de l'Union Populaire - Tribune de membres du @ParlementPop. \\n\\nhttps://t.co/JzBPeFNSOz                                                                                                                        redonner sens gauche rassembler parlement union populaire tribune membre\n",
              "1        L’inscription sur les listes électorales c’est jusqu’au 4 mars et c’est le moyen de faire \\n✅ la 6e République\\n✅ le SMIC à 1400€ nets\\n✅ la règle verte \\n✅ la retraite à 60 ans\\n✅ une France indépendante au service de la paix\\n\\n➡️ Ça se passe ici : https://t.co/FJUbiFzRFI https://t.co/orrqlIgQ42                                        inscription liste électoral jusqu’ mars moyen ✅ e république ✅ smic euro net ✅ règle vert ✅ retraite an ✅ france indépendant service paix ➡ ️ passer ici\n",
              "2                                                                                                                                                                                                                🔴 Rendez-vous ce dimanche 30 janvier à 20h55 sur France 5 pour #cdanslair. https://t.co/Z7nsNC1rg4                                                                                                                                                                🔴 rendre dimanche janvier france\n",
              "3  3 solutions pour financer la retraite à 60 ans\\n\\n✅ Égalité salariale femmes-hommes\\n✅ Augmenter les cotisations pour les salaires supérieurs à 3400€\\n✅ Augmenter les cotisations patronales avec un fond de péréquation inter-entreprises pour que les grosses payent pour les petites https://t.co/WSCD1xX5Qt  solution financer retraite an ✅ égalité salarial femme homme ✅ augmenter cotisation salaire supérieur euro ✅ augmenter cotisation patronal fond péréquation inter-entrepriser gros payer petit\n",
              "4   La Méditerranée est le plus grand cimetière du monde. Ceux qui émigrent ne partent pas par plaisir. Il faut donc arrêter les accords commerciaux déséquilibrés. Mais quand les gens sont là, il ne faut pas les maltraiter. Il faut les traiter humainement et dignement.\\n\\n#FaceABaba https://t.co/K2VLIbH7dI                               méditerranée grand cimetière monde émigrer partir plaisir falloir arrêter accord commercial déséquilibré falloir maltraiter falloir traiter humainement dignement"
            ]
          },
          "metadata": {},
          "execution_count": 33
        }
      ]
    },
    {
      "cell_type": "markdown",
      "metadata": {
        "id": "mqmUh_akXtYQ"
      },
      "source": [
        "\n",
        "> Le preprocess n'est pas encore parfait, on pourrait enlever les verbes avec du pos-tagging, on pourrait rajouter le pos-tagging après chaque mot pour aider le modèle également. "
      ]
    },
    {
      "cell_type": "markdown",
      "metadata": {
        "id": "B2ksZmsUUvxg"
      },
      "source": [
        "### Tokenisation\n",
        "On tokenise la colonne de tweets prétraités (preprocess)\n",
        "\n",
        "**TODO** : utiliser le module nltk pour tokeniser un tweet avec la fonction tokenisation"
      ]
    },
    {
      "cell_type": "code",
      "metadata": {
        "colab": {
          "base_uri": "https://localhost:8080/"
        },
        "id": "IRQwweO9qYup",
        "outputId": "161fa07c-7502-4608-fbc8-4f5d0d41e7e8"
      },
      "source": [
        "nltk.download('punkt') # nécessaire pour la tokenisation"
      ],
      "execution_count": null,
      "outputs": [
        {
          "output_type": "stream",
          "name": "stdout",
          "text": [
            "[nltk_data] Downloading package punkt to /root/nltk_data...\n",
            "[nltk_data]   Unzipping tokenizers/punkt.zip.\n"
          ]
        },
        {
          "output_type": "execute_result",
          "data": {
            "text/plain": [
              "True"
            ]
          },
          "metadata": {},
          "execution_count": 34
        }
      ]
    },
    {
      "cell_type": "code",
      "metadata": {
        "id": "Q8hFhNcRyQs7"
      },
      "source": [
        "# Remplir le None dans le code\n",
        "def tokenisation(tweet):\n",
        "  tweet_tokenized = nltk.word_tokenize(tweet)\n",
        "  return tweet_tokenized"
      ],
      "execution_count": null,
      "outputs": []
    },
    {
      "cell_type": "code",
      "metadata": {
        "id": "AJYs9NjVs7G9"
      },
      "source": [
        "# On peut alors tokeniser nos tweets, et créer une nouvelle colonne, tokens\n",
        "df_tweets[\"tokens\"] = df_tweets[\"text_preprocess\"].apply(lambda tweet : tokenisation(tweet))"
      ],
      "execution_count": null,
      "outputs": []
    },
    {
      "cell_type": "code",
      "metadata": {
        "colab": {
          "base_uri": "https://localhost:8080/",
          "height": 302
        },
        "id": "GyYvPnp9cQdG",
        "outputId": "b15a6d84-63e1-476f-ca75-cdb6a16f35ed"
      },
      "source": [
        "# On regarde le résultat de la tokenisation\n",
        "df_tweets[[\"text_preprocess\", \"tokens\"]].head()"
      ],
      "execution_count": null,
      "outputs": [
        {
          "output_type": "execute_result",
          "data": {
            "text/html": [
              "\n",
              "  <div id=\"df-ca30e7a1-7856-4801-9940-2410a8c0ea3c\">\n",
              "    <div class=\"colab-df-container\">\n",
              "      <div>\n",
              "<style scoped>\n",
              "    .dataframe tbody tr th:only-of-type {\n",
              "        vertical-align: middle;\n",
              "    }\n",
              "\n",
              "    .dataframe tbody tr th {\n",
              "        vertical-align: top;\n",
              "    }\n",
              "\n",
              "    .dataframe thead th {\n",
              "        text-align: right;\n",
              "    }\n",
              "</style>\n",
              "<table border=\"1\" class=\"dataframe\">\n",
              "  <thead>\n",
              "    <tr style=\"text-align: right;\">\n",
              "      <th></th>\n",
              "      <th>text_preprocess</th>\n",
              "      <th>tokens</th>\n",
              "    </tr>\n",
              "  </thead>\n",
              "  <tbody>\n",
              "    <tr>\n",
              "      <th>0</th>\n",
              "      <td>redonner sens gauche rassembler parlement union populaire tribune membre</td>\n",
              "      <td>[redonner, sens, gauche, rassembler, parlement, union, populaire, tribune, membre]</td>\n",
              "    </tr>\n",
              "    <tr>\n",
              "      <th>1</th>\n",
              "      <td>inscription liste électoral jusqu’ mars moyen ✅ e république ✅ smic euro net ✅ règle vert ✅ retraite an ✅ france indépendant service paix ➡ ️ passer ici</td>\n",
              "      <td>[inscription, liste, électoral, jusqu, ’, mars, moyen, ✅, e, république, ✅, smic, euro, net, ✅, règle, vert, ✅, retraite, an, ✅, france, indépendant, service, paix, ➡, ️, passer, ici]</td>\n",
              "    </tr>\n",
              "    <tr>\n",
              "      <th>2</th>\n",
              "      <td>🔴 rendre dimanche janvier france</td>\n",
              "      <td>[🔴, rendre, dimanche, janvier, france]</td>\n",
              "    </tr>\n",
              "    <tr>\n",
              "      <th>3</th>\n",
              "      <td>solution financer retraite an ✅ égalité salarial femme homme ✅ augmenter cotisation salaire supérieur euro ✅ augmenter cotisation patronal fond péréquation inter-entrepriser gros payer petit</td>\n",
              "      <td>[solution, financer, retraite, an, ✅, égalité, salarial, femme, homme, ✅, augmenter, cotisation, salaire, supérieur, euro, ✅, augmenter, cotisation, patronal, fond, péréquation, inter-entrepriser, gros, payer, petit]</td>\n",
              "    </tr>\n",
              "    <tr>\n",
              "      <th>4</th>\n",
              "      <td>méditerranée grand cimetière monde émigrer partir plaisir falloir arrêter accord commercial déséquilibré falloir maltraiter falloir traiter humainement dignement</td>\n",
              "      <td>[méditerranée, grand, cimetière, monde, émigrer, partir, plaisir, falloir, arrêter, accord, commercial, déséquilibré, falloir, maltraiter, falloir, traiter, humainement, dignement]</td>\n",
              "    </tr>\n",
              "  </tbody>\n",
              "</table>\n",
              "</div>\n",
              "      <button class=\"colab-df-convert\" onclick=\"convertToInteractive('df-ca30e7a1-7856-4801-9940-2410a8c0ea3c')\"\n",
              "              title=\"Convert this dataframe to an interactive table.\"\n",
              "              style=\"display:none;\">\n",
              "        \n",
              "  <svg xmlns=\"http://www.w3.org/2000/svg\" height=\"24px\"viewBox=\"0 0 24 24\"\n",
              "       width=\"24px\">\n",
              "    <path d=\"M0 0h24v24H0V0z\" fill=\"none\"/>\n",
              "    <path d=\"M18.56 5.44l.94 2.06.94-2.06 2.06-.94-2.06-.94-.94-2.06-.94 2.06-2.06.94zm-11 1L8.5 8.5l.94-2.06 2.06-.94-2.06-.94L8.5 2.5l-.94 2.06-2.06.94zm10 10l.94 2.06.94-2.06 2.06-.94-2.06-.94-.94-2.06-.94 2.06-2.06.94z\"/><path d=\"M17.41 7.96l-1.37-1.37c-.4-.4-.92-.59-1.43-.59-.52 0-1.04.2-1.43.59L10.3 9.45l-7.72 7.72c-.78.78-.78 2.05 0 2.83L4 21.41c.39.39.9.59 1.41.59.51 0 1.02-.2 1.41-.59l7.78-7.78 2.81-2.81c.8-.78.8-2.07 0-2.86zM5.41 20L4 18.59l7.72-7.72 1.47 1.35L5.41 20z\"/>\n",
              "  </svg>\n",
              "      </button>\n",
              "      \n",
              "  <style>\n",
              "    .colab-df-container {\n",
              "      display:flex;\n",
              "      flex-wrap:wrap;\n",
              "      gap: 12px;\n",
              "    }\n",
              "\n",
              "    .colab-df-convert {\n",
              "      background-color: #E8F0FE;\n",
              "      border: none;\n",
              "      border-radius: 50%;\n",
              "      cursor: pointer;\n",
              "      display: none;\n",
              "      fill: #1967D2;\n",
              "      height: 32px;\n",
              "      padding: 0 0 0 0;\n",
              "      width: 32px;\n",
              "    }\n",
              "\n",
              "    .colab-df-convert:hover {\n",
              "      background-color: #E2EBFA;\n",
              "      box-shadow: 0px 1px 2px rgba(60, 64, 67, 0.3), 0px 1px 3px 1px rgba(60, 64, 67, 0.15);\n",
              "      fill: #174EA6;\n",
              "    }\n",
              "\n",
              "    [theme=dark] .colab-df-convert {\n",
              "      background-color: #3B4455;\n",
              "      fill: #D2E3FC;\n",
              "    }\n",
              "\n",
              "    [theme=dark] .colab-df-convert:hover {\n",
              "      background-color: #434B5C;\n",
              "      box-shadow: 0px 1px 3px 1px rgba(0, 0, 0, 0.15);\n",
              "      filter: drop-shadow(0px 1px 2px rgba(0, 0, 0, 0.3));\n",
              "      fill: #FFFFFF;\n",
              "    }\n",
              "  </style>\n",
              "\n",
              "      <script>\n",
              "        const buttonEl =\n",
              "          document.querySelector('#df-ca30e7a1-7856-4801-9940-2410a8c0ea3c button.colab-df-convert');\n",
              "        buttonEl.style.display =\n",
              "          google.colab.kernel.accessAllowed ? 'block' : 'none';\n",
              "\n",
              "        async function convertToInteractive(key) {\n",
              "          const element = document.querySelector('#df-ca30e7a1-7856-4801-9940-2410a8c0ea3c');\n",
              "          const dataTable =\n",
              "            await google.colab.kernel.invokeFunction('convertToInteractive',\n",
              "                                                     [key], {});\n",
              "          if (!dataTable) return;\n",
              "\n",
              "          const docLinkHtml = 'Like what you see? Visit the ' +\n",
              "            '<a target=\"_blank\" href=https://colab.research.google.com/notebooks/data_table.ipynb>data table notebook</a>'\n",
              "            + ' to learn more about interactive tables.';\n",
              "          element.innerHTML = '';\n",
              "          dataTable['output_type'] = 'display_data';\n",
              "          await google.colab.output.renderOutput(dataTable, element);\n",
              "          const docLink = document.createElement('div');\n",
              "          docLink.innerHTML = docLinkHtml;\n",
              "          element.appendChild(docLink);\n",
              "        }\n",
              "      </script>\n",
              "    </div>\n",
              "  </div>\n",
              "  "
            ],
            "text/plain": [
              "                                                                                                                                                                                  text_preprocess                                                                                                                                                                                                                    tokens\n",
              "0                                                                                                                        redonner sens gauche rassembler parlement union populaire tribune membre                                                                                                                                        [redonner, sens, gauche, rassembler, parlement, union, populaire, tribune, membre]\n",
              "1                                        inscription liste électoral jusqu’ mars moyen ✅ e république ✅ smic euro net ✅ règle vert ✅ retraite an ✅ france indépendant service paix ➡ ️ passer ici                                   [inscription, liste, électoral, jusqu, ’, mars, moyen, ✅, e, république, ✅, smic, euro, net, ✅, règle, vert, ✅, retraite, an, ✅, france, indépendant, service, paix, ➡, ️, passer, ici]\n",
              "2                                                                                                                                                                🔴 rendre dimanche janvier france                                                                                                                                                                                    [🔴, rendre, dimanche, janvier, france]\n",
              "3  solution financer retraite an ✅ égalité salarial femme homme ✅ augmenter cotisation salaire supérieur euro ✅ augmenter cotisation patronal fond péréquation inter-entrepriser gros payer petit  [solution, financer, retraite, an, ✅, égalité, salarial, femme, homme, ✅, augmenter, cotisation, salaire, supérieur, euro, ✅, augmenter, cotisation, patronal, fond, péréquation, inter-entrepriser, gros, payer, petit]\n",
              "4                               méditerranée grand cimetière monde émigrer partir plaisir falloir arrêter accord commercial déséquilibré falloir maltraiter falloir traiter humainement dignement                                      [méditerranée, grand, cimetière, monde, émigrer, partir, plaisir, falloir, arrêter, accord, commercial, déséquilibré, falloir, maltraiter, falloir, traiter, humainement, dignement]"
            ]
          },
          "metadata": {},
          "execution_count": 37
        }
      ]
    },
    {
      "cell_type": "markdown",
      "metadata": {
        "id": "c9Ej6e6-08cE"
      },
      "source": [
        "### Analyse du preprocess\n",
        "\n",
        "On regarde un peu les résultats du preprocessing : \n",
        "- combien y a-t-il de mots distincts pour chacun des deux hommes politiques ? \n",
        "- Quels sont les mots les plus utilisés par deux candidats de votre choix ? \n",
        "\n",
        "Pour cela vous vous aiderez des deux fonctions données ci-dessous"
      ]
    },
    {
      "cell_type": "code",
      "metadata": {
        "id": "O4N6HGJWOHcW"
      },
      "source": [
        "def create_big_tweet_by_userid(userid, col_text) : \n",
        "  ''' Fonction pour mettre tous les tweets de chaque politiciens dans un même text (string) '''\n",
        "  one_big_tweet = \" \".join(df_tweets.loc[df_tweets[\"user_id\"] == userid, col_text])\n",
        "  return one_big_tweet"
      ],
      "execution_count": null,
      "outputs": []
    },
    {
      "cell_type": "code",
      "metadata": {
        "id": "711wc14pWEnN"
      },
      "source": [
        "def get_n_most_common_words(list_words, n) :\n",
        "  ''' Fonction permettant de donner les n mots les plus fréquents d'une liste de mots '''\n",
        "  freq_words = nltk.FreqDist(list_words)\n",
        "  print(freq_words.most_common(n))"
      ],
      "execution_count": null,
      "outputs": []
    },
    {
      "cell_type": "markdown",
      "metadata": {
        "id": "5UlRdmV2XAdH"
      },
      "source": [
        "**TODO** : Si on n'utilise pas de preprocessing, quels sont les mots les plus utilisés par les 2 politiciens ?"
      ]
    },
    {
      "cell_type": "code",
      "metadata": {
        "colab": {
          "base_uri": "https://localhost:8080/"
        },
        "id": "CY-y0Vy5VwAi",
        "outputId": "eddad129-bc26-4410-eb74-89f7f336e31b"
      },
      "source": [
        "# Créer un gros tweet pour chacun des deux politiques (qui est la jointure de l'ensemble de ses tweets)\n",
        "big_tweet_candidate1 = create_big_tweet_by_userid('Marine_Lepen', 'text')\n",
        "big_tweet_candidate2 = create_big_tweet_by_userid('Emmanuel_Macron', 'text')\n",
        "\n",
        "# Tokeniser le gros tweet de chacun des politiques\n",
        "tokens_candidate1 = tokenisation(big_tweet_candidate1)\n",
        "tokens_candidate2 = tokenisation(big_tweet_candidate2)\n",
        "\n",
        "# Regarder les 10 mots les plus communs pour chacun des politiques\n",
        "get_n_most_common_words(tokens_candidate1, 10)\n",
        "get_n_most_common_words(tokens_candidate2, 10)"
      ],
      "execution_count": null,
      "outputs": [
        {
          "output_type": "stream",
          "name": "stdout",
          "text": [
            "[('de', 2179), (',', 1916), ('.', 1663), (':', 1602), ('https', 1322), ('la', 1272), ('’', 1087), ('#', 1032), ('à', 920), ('et', 840)]\n",
            "[('.', 999), (',', 963), ('de', 668), ('’', 502), ('la', 445), (':', 427), ('et', 310), ('https', 298), ('les', 248), ('à', 233)]\n"
          ]
        }
      ]
    },
    {
      "cell_type": "markdown",
      "metadata": {
        "id": "wnoa-PD0Wt-f"
      },
      "source": [
        "**Réponse** : les mots les plus utilisés sont des stopwords ou des ponctuations"
      ]
    },
    {
      "cell_type": "markdown",
      "metadata": {
        "id": "GLwisYcq12sG"
      },
      "source": [
        "Sans preprocessing, combien y a-t-il de mots distincts pour chaque politique ?"
      ]
    },
    {
      "cell_type": "code",
      "metadata": {
        "colab": {
          "base_uri": "https://localhost:8080/"
        },
        "id": "RSof4c_fX5pm",
        "outputId": "d9d85f24-8427-4811-8e7e-400925aecee2"
      },
      "source": [
        "# la fonction set appliquée sur une liste donne une liste d'éléments uniques\n",
        "print(\"Nombre de mots distincts dans les tweets du candidat 1 : {}\".format(len(set(tokens_candidate1))))\n",
        "print(\"Nombre de mots distincts dans les tweets du candidat 2 : {}\".format(len(set(tokens_candidate2))))"
      ],
      "execution_count": null,
      "outputs": [
        {
          "output_type": "stream",
          "name": "stdout",
          "text": [
            "Nombre de mots distincts dans les tweets du candidat 1 : 8108\n",
            "Nombre de mots distincts dans les tweets du candidat 2 : 4394\n"
          ]
        }
      ]
    },
    {
      "cell_type": "markdown",
      "metadata": {
        "id": "63-7MDKW2dVj"
      },
      "source": [
        "**Réponse** : \n",
        "\n",
        "Jean Luc Mélenchon : 11877 \\\n",
        "Eric Zemmour : 8960 \\\n",
        "Marine Lepen : 8108 \\\n",
        "Emmanuel Macron : 4394"
      ]
    },
    {
      "cell_type": "markdown",
      "metadata": {
        "id": "4DIHPg2YXLy-"
      },
      "source": [
        "**TODO** : même question avec un preprocessing ?\n"
      ]
    },
    {
      "cell_type": "code",
      "metadata": {
        "colab": {
          "base_uri": "https://localhost:8080/"
        },
        "id": "TNzWJEz36JMI",
        "outputId": "0df42d63-422c-49a5-a304-e670ca117de5"
      },
      "source": [
        "# Créer un gros tweet pour chacun des deux politiques (qui est la jointure de l'ensemble de ses tweets)\n",
        "big_tweet_candidate1 = create_big_tweet_by_userid('Marine_Lepen', 'text_preprocess')\n",
        "big_tweet_candidate2 = create_big_tweet_by_userid('Emmanuel_Macron', 'text_preprocess')\n",
        "\n",
        "# Tokeniser le gros tweet de chacun des politiques\n",
        "tokens_candidate1 = tokenisation(big_tweet_candidate1)\n",
        "tokens_candidate2 = tokenisation(big_tweet_candidate2)\n",
        "\n",
        "# Regarder les 10 mots les plus communs pour chacun des politiques\n",
        "get_n_most_common_words(tokens_candidate1, 10)\n",
        "get_n_most_common_words(tokens_candidate2, 10)"
      ],
      "execution_count": null,
      "outputs": [
        {
          "output_type": "stream",
          "name": "stdout",
          "text": [
            "[('français', 350), ('📹', 340), ('france', 229), ('🏻', 205), ('👉', 178), ('président', 158), ('pays', 124), ('vouloir', 123), ('🇫', 112), ('🇷', 112)]\n",
            "[('france', 120), ('the', 75), ('européen', 59), ('to', 48), ('engager', 45), ('europe', 42), ('français', 42), ('an', 40), ('y', 40), ('être', 36)]\n"
          ]
        }
      ]
    },
    {
      "cell_type": "code",
      "metadata": {
        "colab": {
          "base_uri": "https://localhost:8080/"
        },
        "id": "vP0H0WW22G1K",
        "outputId": "1306e255-90d6-404b-d95a-834239ed9f15"
      },
      "source": [
        "print(\"Nombre de mots distincts dans les tweets du candidat 1 : {}\".format(len(set(tokens_candidate1))))\n",
        "print(\"Nombre de mots distincts dans les tweets du candidat 2 : {}\".format(len(set(tokens_candidate2))))"
      ],
      "execution_count": null,
      "outputs": [
        {
          "output_type": "stream",
          "name": "stdout",
          "text": [
            "Nombre de mots distincts dans les tweets du candidat 1 : 3997\n",
            "Nombre de mots distincts dans les tweets du candidat 2 : 2761\n"
          ]
        }
      ]
    },
    {
      "cell_type": "markdown",
      "metadata": {
        "id": "JGzpTmsM8yAE"
      },
      "source": [
        "**Réponse** : \n",
        "\n",
        "Jean Luc Mélenchon : 5369 \\\n",
        "Eric Zemmour : 4628"
      ]
    },
    {
      "cell_type": "markdown",
      "metadata": {
        "id": "tF4dqxlPnXcy"
      },
      "source": [
        "### Nuage de mots\n",
        "\n",
        "On trace un nuage de mots pour chacun des politiques pour voir ce qui ressort"
      ]
    },
    {
      "cell_type": "markdown",
      "metadata": {
        "id": "9lT7zjMCGHoW"
      },
      "source": [
        "**#TODO** : Faire un nuage de mots pour deux candidats de votre choix avec 30 mots"
      ]
    },
    {
      "cell_type": "code",
      "metadata": {
        "id": "fA9UVQYHPtWA"
      },
      "source": [
        "def create_wordcloud(text, nb_words):\n",
        "  wordcloud = WordCloud(max_words=nb_words, background_color=\"white\").generate(text)\n",
        "  plt.figure()\n",
        "  plt.imshow(wordcloud, interpolation=\"bilinear\")\n",
        "  plt.axis(\"off\")\n",
        "  plt.show()"
      ],
      "execution_count": null,
      "outputs": []
    },
    {
      "cell_type": "code",
      "metadata": {
        "colab": {
          "base_uri": "https://localhost:8080/",
          "height": 216
        },
        "id": "C12i7alUnWa_",
        "outputId": "28aa33c1-d772-44cc-9069-7b21e9ca3412"
      },
      "source": [
        "lemat_candidat1 = \" \".join(df_tweets.loc[df_tweets.user_id==\"JeanLuc_Melenchon\", \"text_preprocess\"])\n",
        "print(\"Wordcloud des mots lemmatisés de l'ensemble des tweets de Jean-Luc Mélenchon\")\n",
        "create_wordcloud(lemat_candidat1, 30)"
      ],
      "execution_count": null,
      "outputs": [
        {
          "output_type": "stream",
          "name": "stdout",
          "text": [
            "Wordcloud des mots lemmatisés de l'ensemble des tweets de Jean-Luc Mélenchon\n"
          ]
        },
        {
          "output_type": "display_data",
          "data": {
            "image/png": "[encoded data removed]",
            "text/plain": [
              "<Figure size 432x288 with 1 Axes>"
            ]
          },
          "metadata": {
            "needs_background": "light"
          }
        }
      ]
    },
    {
      "cell_type": "code",
      "metadata": {
        "colab": {
          "base_uri": "https://localhost:8080/",
          "height": 216
        },
        "id": "aogPxGLjoYG1",
        "outputId": "b08f557d-699b-448d-cc77-1bd16c140194"
      },
      "source": [
        "lemat_candidat2 = \" \".join(df_tweets.loc[df_tweets.user_id==\"Eric_Zemmour\", \"text_preprocess\"])\n",
        "print(\"Wordcloud des mots lemmatisés de l'ensemble des tweets de Eric_Zemmour\")\n",
        "create_wordcloud(lemat_candidat2, 30)"
      ],
      "execution_count": null,
      "outputs": [
        {
          "output_type": "stream",
          "name": "stdout",
          "text": [
            "Wordcloud des mots lemmatisés de l'ensemble des tweets de Eric_Zemmour\n"
          ]
        },
        {
          "output_type": "display_data",
          "data": {
            "image/png": "[encoded data removed]",
            "text/plain": [
              "<Figure size 432x288 with 1 Axes>"
            ]
          },
          "metadata": {
            "needs_background": "light"
          }
        }
      ]
    },
    {
      "cell_type": "markdown",
      "metadata": {
        "id": "GuxgMTF3Oo4T"
      },
      "source": [
        "C'est bien beau, mais c'est difficile à analyser, et surtout à comparer... \\\n",
        "On va utiliser scattertext pour comparer réellement le vocabulaire des 2 politiques."
      ]
    },
    {
      "cell_type": "markdown",
      "metadata": {
        "id": "wIIsh5K3iSnx"
      },
      "source": [
        "## **4. Scattertext**\n",
        "\n",
        "Grâce à Scattertext, on va pouvoir comparer de manière visuelle la distinction de vocabulaire utilisé par Jean-Luc Mélenchon et Eric Zemmour. \n"
      ]
    },
    {
      "cell_type": "markdown",
      "metadata": {
        "id": "0TE5QCkLHvDb"
      },
      "source": [
        "On doit d'abord construire un corpus avec nos données : \n",
        "- donner la variable de catégorie \n",
        "- donner la variable du texte\n",
        "\n",
        "On peut rajouter le partie ```.compact(st.AssociationCompactor(4000))``` pour ne prendre en compte que les 4000 mots les plus importants dans le scattertext.\n",
        "\n",
        "**TODO** : créer le corpus avec la fonction donnée ci-dessous"
      ]
    },
    {
      "cell_type": "code",
      "metadata": {
        "id": "6CPhJNikb6Wp"
      },
      "source": [
        "df_sample = df_tweets.loc[df_tweets.user_id.isin([\"Eric_Zemmour\", \"JeanLuc_Melenchon\"])]\n",
        "\n",
        "# on crée un objet corpus pour scattertext\n",
        "corpus = st.CorpusFromPandas(data_frame = df_sample,\n",
        "                             category_col = \"user_id\",\n",
        "                             text_col = \"text_preprocess\",\n",
        "                             nlp = nlp).build().compact(st.AssociationCompactor(4000))"
      ],
      "execution_count": null,
      "outputs": []
    },
    {
      "cell_type": "markdown",
      "metadata": {
        "id": "QpCPtMrId1zV"
      },
      "source": [
        "Une fois le corpus créé, on peut créer le html avec le scattertext.\n",
        " \n",
        "On utilise la fonction ```st.produce_scattertext_explorer``` en donnant les paramètres vus pendant le cours : \n",
        "- term_ranker\n",
        "- term_scorer\n",
        "- transform \n",
        "\n",
        "**TODO** : remplir la fonction en réfléchissant aux paramètres que vous voulez tester."
      ]
    },
    {
      "cell_type": "code",
      "metadata": {
        "colab": {
          "base_uri": "https://localhost:8080/"
        },
        "id": "-RWsqgPatg5v",
        "outputId": "39aa6da1-2ac6-4055-f8eb-1acf11239033"
      },
      "source": [
        "# On crée le html du scattertext\n",
        "html = st.produce_scattertext_explorer(  corpus\n",
        "                                       , category                  = 'Eric_Zemmour'\n",
        "                                       , category_name             = 'Eric Zemmour'\n",
        "                                       , not_category_name         = 'Jean Luc Melenchon'\n",
        "                                       , minimum_term_frequency    = 10\n",
        "                                       , pmi_threshold_coefficient = 1\n",
        "                                       , term_ranker               = st.AbsoluteFrequencyRanker\n",
        "                                       , transform                 = st.Scalers.dense_rank # #st.Scalers.log_scale_standardize pour le ScaledFscore\n",
        "                                       , term_scorer               = st.RankDifference() \n",
        "#on peut égalemet tester le term_scorer ScaledFscore : st.ScaledFScorePresets(beta=1, one_to_neg_one=True)\n",
        "                                       , width_in_pixels           = 1000\n",
        "                                       )\n",
        "\n",
        "# On enregistre le html\n",
        "open(\"tweets_visualisation.html\", 'wb').write(html.encode('utf-8'))"
      ],
      "execution_count": null,
      "outputs": [
        {
          "output_type": "execute_result",
          "data": {
            "text/plain": [
              "1174668"
            ]
          },
          "metadata": {},
          "execution_count": 49
        }
      ]
    },
    {
      "cell_type": "markdown",
      "metadata": {
        "id": "FqieNcsrJ7DH"
      },
      "source": [
        "**TODO** : regarder le résultat (il apparaitra normalement dans le dossier content du notebook) en téléchargeant le html (cela peut prendre un petit moment avant de s'afficher correctement).\n",
        "\n",
        "**Question** : On peut voir :\n",
        "- les mots \"stopwords\" apparaitre en haut à droite : \n",
        "  - des verbes / des mots balises\n",
        "  - des mots très utilisés dans le langage politique (\"France\", \"politique\", \"peuple\")\n",
        "- En bas à droite, il y a les mots associés à Jean-Luc Mélenchon : \n",
        "  - \"retraite\", \"programme\", \"populaire\", \"commun\", \"humain\"\n",
        "- En haut à gauche, il y a les mots associés à Eric Zemmour : \n",
        "  - \"Emmanuel Macron\", \"enfant\", \"immigration\", \"étranger\", \"rural\", \"civilisation\""
      ]
    },
    {
      "cell_type": "markdown",
      "metadata": {
        "id": "2KA3He08v2in"
      },
      "source": [
        "## **5. Modélisation**\n",
        "\n",
        "On souhaite prédire si un tweet provient du compte de Marine Le Pen, de Jean Luc Mélenchon, d'Eric Zemmour ou d'Emmanuel Macron. Pour cela, on a besoin de : \n",
        "- Créer un échantillon train / dev\n",
        "- préparer le text (preprocessing)\n",
        "- créer des features (plusieurs méthodes : counts of words, tfidf ou autre)\n",
        "- réaliser l'algorithme\n",
        "- évaluer la performance du modèle "
      ]
    },
    {
      "cell_type": "markdown",
      "metadata": {
        "id": "54J4-pgJqsEa"
      },
      "source": [
        "### Création des échantillons \n",
        "\n",
        "**TODO** : créer un échantillon train (70% du jeu de données total) et un échantillon test "
      ]
    },
    {
      "cell_type": "markdown",
      "metadata": {
        "id": "8YO7cfe6QT9f"
      },
      "source": [
        "<details>    \n",
        "<summary>\n",
        "    <font size=\"3\" color=\"darkgreen\"><b>Aide</b></font>\n",
        "</summary>\n",
        "<p>\n",
        "<ul>\n",
        "  <li> Utilisez la fonction <a href=\"https://scikit-learn.org/stable/modules/generated/sklearn.model_selection.train_test_split.html\" >train_test_split</a></li>\n",
        "  <li> Vous pouvez prendre tout le df_tweet dans le X</li>\n",
        "  <li> N'oubliez pas de rajouter un random_seed pour avoir des résultats reproductibles</li>\n",
        "</p> "
      ]
    },
    {
      "cell_type": "code",
      "metadata": {
        "id": "FCnSMLCMqrX7"
      },
      "source": [
        "df_train, df_test, y_train, y_test = train_test_split(df_tweets,\n",
        "                                                    df_tweets[\"user_id\"], \n",
        "                                                    test_size=0.3, \n",
        "                                                    random_state=123)"
      ],
      "execution_count": null,
      "outputs": []
    },
    {
      "cell_type": "code",
      "source": [
        "print(f\"Nombre de tweets dans l'échantillon train : {len(df_train)}\")\n",
        "print(f\"Nombre de tweets dans l'échantillon test : {len(df_test)}\")"
      ],
      "metadata": {
        "id": "mxrMpHQ8RUIL"
      },
      "execution_count": null,
      "outputs": []
    },
    {
      "cell_type": "code",
      "metadata": {
        "id": "ppRbfbs7NxHq"
      },
      "source": [
        "# on vérifie que la répartition entre les user \n",
        "print(y_train.value_counts(normalize=True))\n",
        "print(\"\\n\")\n",
        "print(y_test.value_counts(normalize=True))"
      ],
      "execution_count": null,
      "outputs": []
    },
    {
      "cell_type": "markdown",
      "metadata": {
        "id": "5_y1-o2fuEh6"
      },
      "source": [
        "On a la même répartition des candidats entre le train et le test. \\\n",
        "Les données ne sont pas équilibrées (Emmanuel Macron a peu de tweets). "
      ]
    },
    {
      "cell_type": "markdown",
      "metadata": {
        "id": "m49CqIaum2oc"
      },
      "source": [
        "### Modèle de régression multinomiale sans gridsearch \n",
        "\n",
        "- Transformer le texte de X_train et X_test en vecteurs pour le modèle\n",
        "- Utiliser la régression logistique multinomiale avec les paramètres par défaut\n",
        "- Regarder les hyperparamètres par défaut sélectionnés\n",
        "- Regarder le score sur l'échantillon test\n",
        "\n",
        "**#TODO** : transformer X_train pour que ce ne soit plus des tweets, mais des vecteurs grâce à <a href=\"https://scikit-learn.org/stable/modules/generated/sklearn.feature_extraction.text.TfidfVectorizer.html\" >TfidfVectorizer</a> (vous pouvez regarder les paramètres associés à la fonction)"
      ]
    },
    {
      "cell_type": "markdown",
      "metadata": {
        "id": "CSggfrDj1pNB"
      },
      "source": [
        "<details>    \n",
        "<summary>\n",
        "    <font size=\"3\" color=\"darkgreen\"><b>Aide</b></font>\n",
        "</summary>\n",
        "<p>\n",
        "\n",
        "La fonction TfidfVectorizer a des paramètres que vous pouvez choisir : \n",
        "<ul>\n",
        "\n",
        "- Combien de n-grams : vous considérez mot par mot ou bien également des groupes de 2 mots\n",
        "- max_df : si vous voulez enlever un pourcentage de mots les plus fréquents\n",
        "- min_df : si vous voulez enlever un pourcentage de mots les moins fréquents\n",
        "</p> \n",
        "\n",
        "\n"
      ]
    },
    {
      "cell_type": "code",
      "metadata": {
        "id": "qPFgyXknrVrt"
      },
      "source": [
        "vectorizer = TfidfVectorizer(max_df=0.9, min_df=5, ngram_range=(1, 2))\n",
        "X_train = vectorizer.fit_transform(df_train['text_preprocess'])"
      ],
      "execution_count": null,
      "outputs": []
    },
    {
      "cell_type": "code",
      "source": [
        "# Si on veut regarder les mots présents dans le TFIDF (bigrams)\n",
        "#sorted(vectorizer.vocabulary_.keys())[0:100]\n",
        "\n",
        "# nombre de colonnes au tfidf \n",
        "len(vectorizer.vocabulary_)"
      ],
      "metadata": {
        "id": "C7Har9I0Pvgp"
      },
      "execution_count": null,
      "outputs": []
    },
    {
      "cell_type": "code",
      "metadata": {
        "id": "Fu5llIt-1wNc"
      },
      "source": [
        "# vous pouvez tester avec ngram_range =(1,2) ou ngram_range=1, \n",
        "# pour voir le nombre de variables créées dans le X_train \n",
        "# (attention, faites retourner le train_test_split avant)\n",
        "X_train.shape"
      ],
      "execution_count": null,
      "outputs": []
    },
    {
      "cell_type": "markdown",
      "metadata": {
        "id": "vC0MPDkft3yt"
      },
      "source": [
        "**#TODO** : créer le modèle de régression logistique (OVR) et entrainer le modèle sur les données d'apprentissage"
      ]
    },
    {
      "cell_type": "code",
      "metadata": {
        "id": "ooeBcE50m2Hu"
      },
      "source": [
        "# initialiser le modèle \n",
        "model = LogisticRegression(multi_class=\"ovr\", random_state=54269)\n",
        "\n",
        "# entrainer le modèle avec les données d'apprentissage\n",
        "model_default_fit = model.fit(X_train, y_train)"
      ],
      "execution_count": null,
      "outputs": []
    },
    {
      "cell_type": "markdown",
      "source": [
        "NB : le random state permet de figer l'aléatoire, et de trouver toujours les mêmes résultats même en faisant tourner le modèle plusieurs fois. "
      ],
      "metadata": {
        "id": "X1_SMiXQWm2s"
      }
    },
    {
      "cell_type": "code",
      "metadata": {
        "id": "ImTsFkXMscd0"
      },
      "source": [
        "# vous pouvez voir les paramètres du modèle \n",
        "model_default_fit.get_params(deep=True)"
      ],
      "execution_count": null,
      "outputs": []
    },
    {
      "cell_type": "markdown",
      "metadata": {
        "id": "QXMmArVe4y_K"
      },
      "source": [
        "Attention, la régression logistique de scikit learn permet de faire des modèles plus complexes qu'une régression logistique normale que vous avez vu en cours : avec les paramètres \"penalty\", vous créer en fait un modèle de régression logistique pénalisé (ridge ou lasso). \\\n",
        "<a href=\"https://towardsdatascience.com/the-basics-logistic-regression-and-regularization-828b0d2d206c\" >article sur régression logistique pénalisée</a> \\\n",
        "<a href=\"https://towardsdatascience.com/penalized-regression-with-classification-f60bc663e8dc\" >autre article</a>\n",
        "\n",
        "\n"
      ]
    },
    {
      "cell_type": "markdown",
      "metadata": {
        "id": "TqhVQJDawG4Z"
      },
      "source": [
        "**#TODO** : Regarder la performance du modèle sur l'échantillon train et test (accuracy)"
      ]
    },
    {
      "cell_type": "markdown",
      "metadata": {
        "id": "Nrt3CnpMwKIF"
      },
      "source": [
        "<details>    \n",
        "<summary>\n",
        "    <font size=\"3\" color=\"darkgreen\"><b>Aide</b></font>\n",
        "</summary>\n",
        "<p>\n",
        "<ul>\n",
        "  <li> N'oubliez pas de transformer le texte de l'échantillon test en vecteur en amont</li>\n",
        "  <li> Vous pouvez utiliser la fonction <a href=\"https://scikit-learn.org/stable/modules/generated/sklearn.linear_model.LogisticRegression.html\">score</a>  du modèle</li>\n",
        "  \n",
        "</p> "
      ]
    },
    {
      "cell_type": "code",
      "source": [
        "# Sur le train\n",
        "model_default_fit.score(X_train, y_train) \n",
        "# Mon résultat est 0.84"
      ],
      "metadata": {
        "id": "jCMKsy4kR_2j"
      },
      "execution_count": null,
      "outputs": []
    },
    {
      "cell_type": "code",
      "metadata": {
        "id": "bMxy2pL6sEwP"
      },
      "source": [
        "# Sur le test\n",
        "X_test = vectorizer.transform(df_test['text_preprocess'])\n",
        "model_default_fit.score(X_test, y_test) \n",
        "# Mon résultat est : 0.71"
      ],
      "execution_count": null,
      "outputs": []
    },
    {
      "cell_type": "markdown",
      "source": [
        "On voit que le modèle surappend sur l'échantillon train, et qu'il y a de grandes différences de performances entre train et test. "
      ],
      "metadata": {
        "id": "uhVXJlDnSXIF"
      }
    },
    {
      "cell_type": "markdown",
      "metadata": {
        "id": "glgpzlqtxskL"
      },
      "source": [
        "**#TODO** : regarder plus en détail ce que donne le modèle : "
      ]
    },
    {
      "cell_type": "code",
      "metadata": {
        "id": "FHWp62vxxopF"
      },
      "source": [
        "print(\"le 1er tweet de l'échantillon test a été prédit : \")\n",
        "print(model_default_fit.predict(X_test[0]))"
      ],
      "execution_count": null,
      "outputs": []
    },
    {
      "cell_type": "code",
      "metadata": {
        "id": "TeIqoH-LxzXB"
      },
      "source": [
        "print(model_default_fit.classes_) # pour connaître l'ordre des classes / des modèles\n",
        "model_default_fit.predict_proba(X_test[0])"
      ],
      "execution_count": null,
      "outputs": []
    },
    {
      "cell_type": "markdown",
      "metadata": {
        "id": "6bKOTlZZx-qf"
      },
      "source": [
        "**Question** : que retourne la ligne de code ci-dessus ?\n",
        "\n",
        "**Réponse** : les résultats des 4 modèles de régression logistique que scikit learn a fait tourner (car on est en One VS rest). \n",
        "\n",
        "On voit donc que le 3e modèle qui prédit Jean Luc Mélenchon VS reste, donne la probabilité la plus élevée (0.56 dans mon cas). Scikit learn prédit donc que le 1er tweet vient du compte de Jean Luc Mélenchon"
      ]
    },
    {
      "cell_type": "markdown",
      "metadata": {
        "id": "byIIfpmBwmdC"
      },
      "source": [
        "### Mise en place d'une random search\n",
        "\n",
        "On veut mettre en place une randomsearch pour sélectionner les meilleurs hyperparamètres qu'on a choisi d'évaluer via la méthode de cross-validation : \n",
        "- on établit d'abord la grille de hyperparamètres que l'on veut tester\n",
        "- on effectue la randomsearch\n",
        "- on regarde les résultats sut l'échantillon test"
      ]
    },
    {
      "cell_type": "code",
      "source": [
        "dict_params = dict(prep__text_preprocess__max_df=[0.99, 0.95, 0.9],\n",
        "                   prep__text_preprocess__min_df=[2, 5, 10],\n",
        "                   clf__C = [1,20,50],\n",
        "                   clf__penalty = ['l2'],\n",
        "                   clf__multi_class=['ovr', 'multinomial'])"
      ],
      "metadata": {
        "id": "PxixFU42nYry"
      },
      "execution_count": null,
      "outputs": []
    },
    {
      "cell_type": "markdown",
      "metadata": {
        "id": "F110FYlG2T5Z"
      },
      "source": [
        "**#TODO** : Entrainer la randomizedsearch avec les hyperparamètres ci-dessus sur les données d'apprentissage avec de la cross validation\n",
        "\n",
        "NB : une pipeline a été mise en place dans la cellule ci-dessous afin de pouvoir tester également les paramètres du TFIDF. \n"
      ]
    },
    {
      "cell_type": "markdown",
      "metadata": {
        "id": "y5lUyVUl2U2f"
      },
      "source": [
        "<details>    \n",
        "<summary>\n",
        "    <font size=\"3\"**texte en gras** color=\"darkgreen\"><b>Aide</b></font>\n",
        "</summary>\n",
        "<p>\n",
        "<ul>\n",
        "  <li> Vous pouvez utiliser la fonction <a href=\"https://scikit-learn.org/stable/modules/generated/sklearn.model_selection.RandomizedSearchCV.html\">RandomizedSearchCV</a></li>\n",
        "  \n",
        "</p> "
      ]
    },
    {
      "cell_type": "code",
      "metadata": {
        "id": "nHTKN1CdyyuF"
      },
      "source": [
        "# Vectorisation de la variable text_preprocess\n",
        "text_transformer_tfidf =  TfidfVectorizer()\n",
        "preprocess = ColumnTransformer([(\"text_preprocess\", text_transformer_tfidf, \"text_preprocess\")], \n",
        "                               remainder=\"drop\")\n",
        "\n",
        "# Type de modèle à tester\n",
        "model = LogisticRegression(random_state=54269, max_iter=1000)\n",
        "\n",
        "# Pipeline qui combine le preprocess et le modèle\n",
        "prep_model = Pipeline(steps=[('prep',preprocess),\n",
        "                             ('clf', model)])\n",
        "\n",
        "# RANDOMIZED SEARCH\n",
        "random_search = RandomizedSearchCV( prep_model,\n",
        "                                   dict_params,\n",
        "                                   cv=5,  # cross validation de 5 échantillons\n",
        "                                   n_iter=20,\n",
        "                                   random_state=5439676,\n",
        "                                   n_jobs=-1,\n",
        "                                   verbose=1)\n",
        "\n",
        "best_rd_model = random_search.fit(df_train, y_train)"
      ],
      "execution_count": null,
      "outputs": []
    },
    {
      "cell_type": "code",
      "source": [
        "# Paramètres sélectionnés  :\n",
        "# best_rd_model.cv_results_\n",
        "best_rd_model.best_estimator_"
      ],
      "metadata": {
        "id": "z8jJfCGXoHoq"
      },
      "execution_count": null,
      "outputs": []
    },
    {
      "cell_type": "markdown",
      "source": [
        "Quelle accuracy le meilleur modèle a-t'il atteint sur l'échantillon train ? "
      ],
      "metadata": {
        "id": "c2zu8ywsobNR"
      }
    },
    {
      "cell_type": "code",
      "source": [
        "best_rd_model.best_score_\n",
        "# Mon résultat est 0.74"
      ],
      "metadata": {
        "id": "_8m7H6aBdOXR"
      },
      "execution_count": null,
      "outputs": []
    },
    {
      "cell_type": "markdown",
      "metadata": {
        "id": "-Bejy6JR9Hb-"
      },
      "source": [
        "Le modèle avec les hyperparamètres sélectionnés par cross validation a une performance de 0.74 en cross validation et est un peu meilleur que le modèle par défaut.\n",
        "\n"
      ]
    },
    {
      "cell_type": "markdown",
      "metadata": {
        "id": "6_A4x73Z1U3P"
      },
      "source": [
        "**#TODO** : on évalue la performance en calculant l'accuracy du modèle de randomsearch sur l'échantillon test\n",
        "\n"
      ]
    },
    {
      "cell_type": "code",
      "metadata": {
        "id": "DImZvEdR1GfT"
      },
      "source": [
        "best_rd_model.score(df_test, y_test)\n",
        "# Mon résultat est 0.75"
      ],
      "execution_count": null,
      "outputs": []
    },
    {
      "cell_type": "markdown",
      "metadata": {
        "id": "jy7DRETf9TNA"
      },
      "source": [
        "Sur l'échantillon test, le modèle a une performance de 0.75, donc le modèle n'overfit pas."
      ]
    },
    {
      "cell_type": "markdown",
      "metadata": {
        "id": "AOfaMr2nBnp1"
      },
      "source": [
        "### Evaluation de la performance du modèle \n",
        "\n",
        "On va calculer la matrice de confusion sur l'échantillon test"
      ]
    },
    {
      "cell_type": "markdown",
      "metadata": {
        "id": "Si_SnCeJCq36"
      },
      "source": [
        "<details>    \n",
        "<summary>\n",
        "    <font size=\"3\" color=\"darkgreen\"><b>Aide</b></font>\n",
        "</summary>\n",
        "<p>\n",
        "<ul>\n",
        "  <li> Vous pouvez utiliser la fonction <a href=\"https://scikit-learn.org/stable/modules/generated/sklearn.metrics.ConfusionMatrixDisplay.html\" >ConfusionMatrixDisplay</a></li>\n",
        "  \n",
        "</p> "
      ]
    },
    {
      "cell_type": "code",
      "source": [
        "#matrice de confusion\n",
        "#confrontation entre Y obs. sur l’éch. test et la prédiction\n",
        "predictions = best_rd_model.predict(df_test)\n",
        "\n",
        "cm = confusion_matrix(y_test, \n",
        "                      predictions, \n",
        "                      labels=best_rd_model.classes_)\n",
        "\n",
        "disp = ConfusionMatrixDisplay(confusion_matrix=cm,\n",
        "                              display_labels=best_rd_model.classes_)\n",
        "disp.plot(cmap=plt.cm.Blues,values_format='g',xticks_rotation='vertical')\n",
        "plt.show()"
      ],
      "metadata": {
        "id": "UQKUKH_VFfs2"
      },
      "execution_count": null,
      "outputs": []
    },
    {
      "cell_type": "markdown",
      "metadata": {
        "id": "qp-q0glnCuK4"
      },
      "source": [
        "**#TODO** : Interpréter les résultats "
      ]
    },
    {
      "cell_type": "markdown",
      "metadata": {
        "id": "WjSPIiQB-cCO"
      },
      "source": [
        "**Question** : Sur l'ensemble des tweets de JLM, combien (pourcentage) ont bien été prédits JLM ?  "
      ]
    },
    {
      "cell_type": "markdown",
      "metadata": {
        "id": "IqEqKtK7_CgS"
      },
      "source": [
        "**Réponse** : 87% des tweets de JLM ont été prédits JLM par le modèle. \n",
        "``` \n",
        "728/(728+7+77+26) \n",
        "```"
      ]
    },
    {
      "cell_type": "code",
      "metadata": {
        "id": "yo-BVyqC_wCY"
      },
      "source": [
        "#On peut aussi retrouver le résultat via cette fonction\n",
        "print(classification_report(y_test, best_rd_model.predict(df_test)))"
      ],
      "execution_count": null,
      "outputs": []
    },
    {
      "cell_type": "markdown",
      "source": [
        "On voit que le recall (rappel) sur Emmanuel Macron est très faible (0.45) VS de bons recall pour Jean Luc Mélenchon ou Eric Zemmour. "
      ],
      "metadata": {
        "id": "ewKtdbYGo3yC"
      }
    },
    {
      "cell_type": "markdown",
      "metadata": {
        "id": "E3r2qKuiBtIR"
      },
      "source": [
        "### Test sur des nouvelles données :\n",
        "\n",
        "Ces quelques tweets ont été récupérés après que la base de données ait été récupérée. Ce sont donc des nouvelles données que le modèle n'a jamais vu.\n",
        "\n",
        "**#TODO** : Qui a publié ces tweets ? "
      ]
    },
    {
      "cell_type": "code",
      "source": [
        "df_mystere = pd.read_excel(f\"{PATH_DATA}/test_mystere.xlsx\")\n",
        "df_mystere[\"text\"]"
      ],
      "metadata": {
        "id": "jXRBZaHeJ8nh"
      },
      "execution_count": null,
      "outputs": []
    },
    {
      "cell_type": "code",
      "metadata": {
        "id": "QjgYUZIUHXFv"
      },
      "source": [
        "df_mystere[\"text_preprocess\"] = df_mystere.text.apply(lambda row : preprocess_tweet(row, lemmatizing=True))\n",
        "df_mystere[\"tokens\"] = df_mystere.text_preprocess.apply(lambda row : tokenisation(row))\n",
        "\n",
        "best_rd_model.predict(df_mystere)"
      ],
      "execution_count": null,
      "outputs": []
    },
    {
      "cell_type": "markdown",
      "metadata": {
        "id": "9DbjKAa07vGo"
      },
      "source": [
        "**Réponse attendue avec le modèle** :\n",
        "\n",
        "```\n",
        "array(['Eric_Zemmour', 'Eric_Zemmour', 'JeanLuc_Melenchon',\n",
        "       'Emmanuel_Macron', 'JeanLuc_Melenchon'], dtype=object)\n",
        "```"
      ]
    },
    {
      "cell_type": "markdown",
      "source": [
        "Les tweets sont en fait ceux de :     \n",
        "- Marine Lepen ; \n",
        "- Eric Zemmour ; \n",
        "- Jean Luc Mélenchon ; \n",
        "- Emmanuel Macron ; \n",
        "- la reine des neiges ; "
      ],
      "metadata": {
        "id": "4lRp4LtoI_oi"
      }
    },
    {
      "cell_type": "markdown",
      "source": [
        "Le modèle a confondu Marine Lepen avec Eric Zemmour.\n",
        "\n",
        "Le vocabulaire employé dans les paroles de la reine des neiges a fait pencher le modèle plutôt vers Jean Luc Mélenchon 👸"
      ],
      "metadata": {
        "id": "3PGeYMuqpPSk"
      }
    },
    {
      "cell_type": "markdown",
      "source": [
        "\n",
        "TP réalisé par Manon Richard\n",
        "\n",
        "📧 : manon.richard@group-consort.com"
      ],
      "metadata": {
        "id": "4jL8_RVAp3tD"
      }
    },
    {
      "cell_type": "code",
      "source": [
        ""
      ],
      "metadata": {
        "id": "oEm5kQprp4fE"
      },
      "execution_count": null,
      "outputs": []
    }
  ]
}